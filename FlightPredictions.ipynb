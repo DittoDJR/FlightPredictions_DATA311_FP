{
  "nbformat": 4,
  "nbformat_minor": 0,
  "metadata": {
    "colab": {
      "provenance": []
    },
    "kernelspec": {
      "name": "python3",
      "display_name": "Python 3"
    },
    "language_info": {
      "name": "python"
    }
  },
  "cells": [
    {
      "cell_type": "code",
      "execution_count": null,
      "metadata": {
        "id": "fonros08pza-"
      },
      "outputs": [],
      "source": [
        "import pandas as pd\n",
        "import matplotlib.pyplot as plt\n",
        "import numpy as np\n",
        "import seaborn as sns\n",
        "import geopy.distance\n",
        "import math"
      ]
    },
    {
      "cell_type": "markdown",
      "source": [
        "#Cleaning\n",
        "* Accessing CSVs\n",
        "* Merging\n",
        "* Selecting which columns will be important\n",
        "* Data type reformatting \n",
        "* collect/create new information\n",
        "* Summary statistics - graphs and other important data\n",
        " * What do we need to do to use this for training set?"
      ],
      "metadata": {
        "id": "aTegEyaGqL_Q"
      }
    },
    {
      "cell_type": "code",
      "source": [
        "planes = pd.read_csv(\"/content/planes.csv\", names = ['Plane Name', 'IATA Code', 'ICAO Code'])"
      ],
      "metadata": {
        "id": "yHCBSK3fEZvI"
      },
      "execution_count": null,
      "outputs": []
    },
    {
      "cell_type": "code",
      "source": [
        "airlines = pd.read_csv(\"/content/airlines.csv\", names = ['Airline ID', 'Airline Name', 'Alias', 'IATA Code', 'ICAO Code', 'Callsign', 'Country', 'Active']) #cols = {'Unique ID', '}\n",
        "airports = pd.read_csv(\"/content/airports.csv\", names = ['Airport ID', 'Name', 'City','Country','IATA Code','ICAO Code','Latitude','Longitude','Altitude','Timezone','DST','TZ Database','Type (remove this col)','Source (remove this col)'])\n",
        "routes = pd.read_csv(\"/content/routes.csv\", index_col=None, names = ['IATA/ICAO Code', 'Airline ID', 'Source Airport', 'Source Airport ID', 'Destination Airport', 'Destination Airport ID','Codeshare', 'Stops', 'Equipment'])\n",
        "planes = pd.read_csv(\"/content/planes.csv\", names = ['Plane Name', 'IATA Code', 'ICAO Code'])"
      ],
      "metadata": {
        "id": "HAF3OXpEuz-U"
      },
      "execution_count": null,
      "outputs": []
    },
    {
      "cell_type": "code",
      "source": [
        "routes.index.name = 'Index W.R.T. Origin'"
      ],
      "metadata": {
        "id": "zJx5E-Ao9VTI"
      },
      "execution_count": null,
      "outputs": []
    },
    {
      "cell_type": "markdown",
      "source": [
        "Documentation: https://openflights.org/data.html "
      ],
      "metadata": {
        "id": "TFPK-E57bFdH"
      }
    },
    {
      "cell_type": "code",
      "source": [
        "routes = routes.loc[routes['Airline ID'] != '\\\\N']\n",
        "routes['Airline ID'] = routes['Airline ID'].astype('int64')\n",
        "routes = routes.loc[routes['Source Airport ID'] != '\\\\N']\n",
        "routes['Source Airport ID'] = routes['Source Airport ID'].astype('int64')\n",
        "routes = routes.loc[routes['Destination Airport ID'] != '\\\\N']\n",
        "routes['Destination Airport ID'] = routes['Destination Airport ID'].astype('int64')\n",
        "routes['Codeshare'] = np.array(routes['Codeshare'] == 'Y', dtype = 'int32')\n",
        "\n",
        "routes = routes.dropna()"
      ],
      "metadata": {
        "id": "OWhTtIb5Wl_b",
        "colab": {
          "base_uri": "https://localhost:8080/"
        },
        "outputId": "c06ea2bd-85bf-45d9-a81e-15c7a83b2351"
      },
      "execution_count": null,
      "outputs": [
        {
          "output_type": "stream",
          "name": "stderr",
          "text": [
            "<ipython-input-5-f7ab7a68809e>:4: SettingWithCopyWarning: \n",
            "A value is trying to be set on a copy of a slice from a DataFrame.\n",
            "Try using .loc[row_indexer,col_indexer] = value instead\n",
            "\n",
            "See the caveats in the documentation: https://pandas.pydata.org/pandas-docs/stable/user_guide/indexing.html#returning-a-view-versus-a-copy\n",
            "  routes['Source Airport ID'] = routes['Source Airport ID'].astype('int64')\n"
          ]
        }
      ]
    },
    {
      "cell_type": "code",
      "source": [
        "# Added column for Airline names\n",
        "\n",
        "airline_code_map = {}\n",
        "\n",
        "for id in airlines['Airline ID']:\n",
        "  name = str(airlines.loc[airlines['Airline ID'] == id]['Airline Name'])\n",
        "  airline_code_map[id] = ' '.join(name[:-34].split(' ')[4:])\n",
        "routes['Airline'] = routes['Airline ID'].map(airline_code_map)"
      ],
      "metadata": {
        "id": "hd0m3zYDXM_Q"
      },
      "execution_count": null,
      "outputs": []
    },
    {
      "cell_type": "code",
      "source": [
        "\n",
        "# Added column for Source and Destination Airports\n",
        "# Uses same map(ID : Name)\n",
        "\n",
        "airport_code_map = {}\n",
        "\n",
        "for id in airports['Airport ID']:\n",
        "  name = str(airports.loc[airports['Airport ID'] == id]['Name'])\n",
        "  airport_code_map[id] = ' '.join(name[:-26].split(' ')[4:])\n",
        "routes['Source Airport'] = (routes['Source Airport ID'].astype('int64').map(airport_code_map))\n",
        "routes['Destination Airport'] = (routes['Destination Airport ID'].astype('int64').map(airport_code_map))"
      ],
      "metadata": {
        "id": "xIdJUu4OaQua"
      },
      "execution_count": null,
      "outputs": []
    },
    {
      "cell_type": "code",
      "source": [
        "# Adds a country identifier for source and destination on route\n",
        "\n",
        "country_code_map = {}\n",
        "\n",
        "for id in airports['Airport ID']:\n",
        "  source_country = str(airlines.loc[airlines['Airline ID'] == id]['Country'])\n",
        "  country_code_map[id] = ' '.join(source_country[:-29].split(' ')[4:])\n",
        "routes['Source Country'] = (routes['Source Airport ID'].map(country_code_map))\n",
        "routes['Destination Country'] = (routes['Destination Airport ID'].astype('int64').map(country_code_map))"
      ],
      "metadata": {
        "id": "kBenS-orLsXZ"
      },
      "execution_count": null,
      "outputs": []
    },
    {
      "cell_type": "code",
      "source": [
        "# distance travelled\n",
        "# Calculates distance between two airports by their latitude and longitude\n",
        "\n",
        "\n",
        "dists = []\n",
        "dud_rows = []\n",
        "\n",
        "float_nan = float('nan')\n",
        "#calculating distance between lat and lon of source ap and dest ap\n",
        "for i in range(len(routes)):\n",
        "  if routes.iloc[i]['Source Airport ID'] in airport_code_map.keys() and routes.iloc[i]['Destination Airport ID'] in airport_code_map.keys():\n",
        "    lat_source = float(airports[airports['Airport ID'] == routes.iloc[i]['Source Airport ID']].iloc[0]['Latitude'])\n",
        "    long_source = float(airports[airports['Airport ID'] == routes.iloc[i]['Source Airport ID']].iloc[0]['Longitude'])\n",
        "    lat_dest = float(airports[airports['Airport ID'] == routes.iloc[i]['Destination Airport ID']].iloc[0]['Latitude'])\n",
        "    long_dest = float(airports[airports['Airport ID'] == routes.iloc[i]['Destination Airport ID']].iloc[0]['Longitude'])\n",
        "    \n",
        "\n",
        "\n",
        "    dists.append(geopy.distance.geodesic((lat_source, long_source), (lat_dest, long_dest)).km)\n",
        "  else:\n",
        "    dud_rows.append(i)\n",
        "\n",
        "    \n",
        "# d_rows.append(i)\n",
        "\n"
      ],
      "metadata": {
        "id": "12MKBh63g6_O"
      },
      "execution_count": null,
      "outputs": []
    },
    {
      "cell_type": "code",
      "source": [
        "routes = routes.drop(index = [routes.iloc[i].name for i in dud_rows]) #couldn't get geo-coordinate information from some airports so they get dropped\n",
        "routes['Distance (KM)'] = dists"
      ],
      "metadata": {
        "id": "1PTE9YHQ4t4e"
      },
      "execution_count": null,
      "outputs": []
    },
    {
      "cell_type": "code",
      "source": [
        "routes.to_csv('routes_clean.csv')"
      ],
      "metadata": {
        "id": "5a2OdWYb7jxJ"
      },
      "execution_count": null,
      "outputs": []
    },
    {
      "cell_type": "code",
      "source": [
        "country_code_map = {}\n",
        "for id in airports['Airport ID']:\n",
        "  country = str(airports.loc[airports['Airport ID'] == id]['Country'])\n",
        "  country_code_map[id] = ' '.join(country[:-29].split(' ')[4:])\n",
        "\n"
      ],
      "metadata": {
        "id": "G3zPdwIQ1d6h"
      },
      "execution_count": null,
      "outputs": []
    },
    {
      "cell_type": "code",
      "source": [
        "source_countries = routes['Source Airport ID'].map(country_code_map)\n",
        "routes['Source Country'] = source_countries"
      ],
      "metadata": {
        "id": "I1vY2QVQ4Gg8"
      },
      "execution_count": null,
      "outputs": []
    },
    {
      "cell_type": "code",
      "source": [
        "dest_countries = routes['Destination Airport ID'].map(country_code_map)\n",
        "routes['Destination Country'] = dest_countries"
      ],
      "metadata": {
        "id": "Z57zEGvr4oSJ"
      },
      "execution_count": null,
      "outputs": []
    },
    {
      "cell_type": "code",
      "source": [
        "# THIS cell doesn't work as intended\n",
        "\n",
        "# planes_code_map = {}\n",
        "\n",
        "# for code in planes['IATA Code']:\n",
        "#   plane_model = str(planes.loc[planes['IATA Code'] == code]['Plane Name'])\n",
        "#   planes_code_map[code] = ' '.join(plane_model[:-32].split(' ')[4:])\n",
        "# plane_models = routes['Equipment'].map(planes_code_map)\n",
        "# routes['Equipment'] = plane_models"
      ],
      "metadata": {
        "id": "eS0GgQ7i7NMZ"
      },
      "execution_count": null,
      "outputs": []
    },
    {
      "cell_type": "code",
      "source": [
        "routes = routes[['IATA/ICAO Code', 'Airline', 'Airline ID', 'Source Airport', 'Source Country','Source Airport ID', 'Destination Airport', 'Destination Country','Destination Airport ID','Distance (KM)','Equipment','Stops','Codeshare']].rename(columns={'Equipment':'Plane Model'})"
      ],
      "metadata": {
        "id": "Yc1uojpw8R6v"
      },
      "execution_count": null,
      "outputs": []
    },
    {
      "cell_type": "code",
      "source": [
        "routes.to_csv('routes_clean.csv')"
      ],
      "metadata": {
        "id": "uV7jBRXc415u"
      },
      "execution_count": null,
      "outputs": []
    },
    {
      "cell_type": "markdown",
      "source": [
        "Collect routes df after cleaning"
      ],
      "metadata": {
        "id": "7mq1pxKQ5R6y"
      }
    },
    {
      "cell_type": "code",
      "source": [
        "routes = pd.read_csv(\"/content/routes_clean.csv\", index_col='Index W.R.T. Origin')"
      ],
      "metadata": {
        "id": "Vh-zH8dZ5RQW"
      },
      "execution_count": null,
      "outputs": []
    },
    {
      "cell_type": "markdown",
      "source": [
        "##Further cleaning\n",
        "* I think cleaning is done"
      ],
      "metadata": {
        "id": "mGHVuP4hf8QY"
      }
    },
    {
      "cell_type": "code",
      "source": [
        "routes_cl = routes.copy(deep=True)"
      ],
      "metadata": {
        "id": "14EgXibE_ReE"
      },
      "execution_count": null,
      "outputs": []
    },
    {
      "cell_type": "code",
      "source": [
        "routes['Plane Model'] = pd.read_csv(\"/content/routes.csv\", index_col=None, names = ['IATA/ICAO Code', 'Airline ID', 'Source Airport', 'Source Airport ID', 'Destination Airport', 'Destination Airport ID','Codeshare', 'Stops', 'Equipment'])['Equipment']"
      ],
      "metadata": {
        "id": "Jh2c7I0MCFza"
      },
      "execution_count": null,
      "outputs": []
    },
    {
      "cell_type": "code",
      "source": [
        "#25220\n",
        "\n",
        "plane_model = str(routes.loc[routes_cl.index == 1]['Plane Model'])\n",
        "x = ' '.join(plane_model[:-33].split(' ')[6:])\n",
        "\n",
        "# display(x)\n",
        "# display(routes.loc[routes_cl.index == 1])\n",
        "'ND2' in np.array(planes['IATA Code'])\n",
        "\n",
        "planes_code_map = {}\n",
        "\n",
        "for code in routes['Plane Model']:\n",
        "  if code in np.array(planes['IATA Code']):\n",
        "    plane_model = str(planes.loc[planes['IATA Code'] == code]['Plane Name'])\n",
        "    planes_code_map[code] = ' '.join(plane_model[:-32].split(' ')[4:])\n",
        "  else:\n",
        "    planes_code_map[code] = np.nan\n"
      ],
      "metadata": {
        "id": "G7XAge11Ca60"
      },
      "execution_count": null,
      "outputs": []
    },
    {
      "cell_type": "code",
      "source": [
        "plane_models = routes['Plane Model'].map(planes_code_map)\n",
        "routes['Plane Model'] = plane_models"
      ],
      "metadata": {
        "id": "EO77WZiHIxNf"
      },
      "execution_count": null,
      "outputs": []
    },
    {
      "cell_type": "code",
      "source": [
        "routes.dropna()"
      ],
      "metadata": {
        "id": "l8TFL6GcJBCK",
        "colab": {
          "base_uri": "https://localhost:8080/"
        },
        "outputId": "b2e9da1f-c8a5-49ce-b448-3f82a9e781ef"
      },
      "execution_count": null,
      "outputs": [
        {
          "output_type": "execute_result",
          "data": {
            "text/plain": [
              "                    IATA/ICAO Code           Airline  Airline ID  \\\n",
              "Index W.R.T. Origin                                                \n",
              "0                               2B        Aerocondor         410   \n",
              "1                               2B        Aerocondor         410   \n",
              "2                               2B        Aerocondor         410   \n",
              "3                               2B        Aerocondor         410   \n",
              "4                               2B        Aerocondor         410   \n",
              "...                            ...               ...         ...   \n",
              "67658                           ZL  Regional Express        4178   \n",
              "67659                           ZM        Apache Air       19016   \n",
              "67660                           ZM        Apache Air       19016   \n",
              "67661                           ZM        Apache Air       19016   \n",
              "67662                           ZM        Apache Air       19016   \n",
              "\n",
              "                                       Source Airport Source Country  \\\n",
              "Index W.R.T. Origin                                                    \n",
              "0                         Sochi International Airport         Russia   \n",
              "1                                   Astrakhan Airport         Russia   \n",
              "2                                   Astrakhan Airport         Russia   \n",
              "3                       Chelyabinsk Balandino Airport         Russia   \n",
              "4                       Chelyabinsk Balandino Airport         Russia   \n",
              "...                                               ...            ...   \n",
              "67658                                 Whyalla Airport      Australia   \n",
              "67659                Domodedovo International Airport         Russia   \n",
              "67660                     Manas International Airport     Kyrgyzstan   \n",
              "67661                     Manas International Airport     Kyrgyzstan   \n",
              "67662                                     Osh Airport     Kyrgyzstan   \n",
              "\n",
              "                     Source Airport ID               Destination Airport  \\\n",
              "Index W.R.T. Origin                                                        \n",
              "0                                 2965       Kazan International Airport   \n",
              "1                                 2966       Kazan International Airport   \n",
              "2                                 2966          Mineralnyye Vody Airport   \n",
              "3                                 2968       Kazan International Airport   \n",
              "4                                 2968                Tolmachevo Airport   \n",
              "...                                ...                               ...   \n",
              "67658                             6334    Adelaide International Airport   \n",
              "67659                             4029       Manas International Airport   \n",
              "67660                             2912  Domodedovo International Airport   \n",
              "67661                             2912                       Osh Airport   \n",
              "67662                             2913       Manas International Airport   \n",
              "\n",
              "                    Destination Country  Destination Airport ID  \\\n",
              "Index W.R.T. Origin                                               \n",
              "0                                Russia                    2990   \n",
              "1                                Russia                    2990   \n",
              "2                                Russia                    2962   \n",
              "3                                Russia                    2990   \n",
              "4                                Russia                    4078   \n",
              "...                                 ...                     ...   \n",
              "67658                         Australia                    3341   \n",
              "67659                        Kyrgyzstan                    2912   \n",
              "67660                            Russia                    4029   \n",
              "67661                        Kyrgyzstan                    2913   \n",
              "67662                        Kyrgyzstan                    2912   \n",
              "\n",
              "                     Distance (KM)                Plane Model  Stops  \\\n",
              "Index W.R.T. Origin                                                    \n",
              "0                      1507.989680  Canadair Regional Jet 200      0   \n",
              "1                      1040.943207  Canadair Regional Jet 200      0   \n",
              "2                       449.036664  Canadair Regional Jet 200      0   \n",
              "3                       773.126239  Canadair Regional Jet 200      0   \n",
              "4                      1343.161122  Canadair Regional Jet 200      0   \n",
              "...                            ...                        ...    ...   \n",
              "67658                   229.334786              Saab SF340A/B      0   \n",
              "67659                  2949.906099             Boeing 737-400      0   \n",
              "67660                  2949.906099             Boeing 737-400      0   \n",
              "67661                   306.189294             Boeing 737-400      0   \n",
              "67662                   306.189294             Boeing 737-400      0   \n",
              "\n",
              "                     Codeshare  \n",
              "Index W.R.T. Origin             \n",
              "0                            0  \n",
              "1                            0  \n",
              "2                            0  \n",
              "3                            0  \n",
              "4                            0  \n",
              "...                        ...  \n",
              "67658                        0  \n",
              "67659                        0  \n",
              "67660                        0  \n",
              "67661                        0  \n",
              "67662                        0  \n",
              "\n",
              "[41635 rows x 13 columns]"
            ],
            "text/html": [
              "\n",
              "  <div id=\"df-0a687cd7-f25c-4df9-b2a6-266a47b20c40\">\n",
              "    <div class=\"colab-df-container\">\n",
              "      <div>\n",
              "<style scoped>\n",
              "    .dataframe tbody tr th:only-of-type {\n",
              "        vertical-align: middle;\n",
              "    }\n",
              "\n",
              "    .dataframe tbody tr th {\n",
              "        vertical-align: top;\n",
              "    }\n",
              "\n",
              "    .dataframe thead th {\n",
              "        text-align: right;\n",
              "    }\n",
              "</style>\n",
              "<table border=\"1\" class=\"dataframe\">\n",
              "  <thead>\n",
              "    <tr style=\"text-align: right;\">\n",
              "      <th></th>\n",
              "      <th>IATA/ICAO Code</th>\n",
              "      <th>Airline</th>\n",
              "      <th>Airline ID</th>\n",
              "      <th>Source Airport</th>\n",
              "      <th>Source Country</th>\n",
              "      <th>Source Airport ID</th>\n",
              "      <th>Destination Airport</th>\n",
              "      <th>Destination Country</th>\n",
              "      <th>Destination Airport ID</th>\n",
              "      <th>Distance (KM)</th>\n",
              "      <th>Plane Model</th>\n",
              "      <th>Stops</th>\n",
              "      <th>Codeshare</th>\n",
              "    </tr>\n",
              "    <tr>\n",
              "      <th>Index W.R.T. Origin</th>\n",
              "      <th></th>\n",
              "      <th></th>\n",
              "      <th></th>\n",
              "      <th></th>\n",
              "      <th></th>\n",
              "      <th></th>\n",
              "      <th></th>\n",
              "      <th></th>\n",
              "      <th></th>\n",
              "      <th></th>\n",
              "      <th></th>\n",
              "      <th></th>\n",
              "      <th></th>\n",
              "    </tr>\n",
              "  </thead>\n",
              "  <tbody>\n",
              "    <tr>\n",
              "      <th>0</th>\n",
              "      <td>2B</td>\n",
              "      <td>Aerocondor</td>\n",
              "      <td>410</td>\n",
              "      <td>Sochi International Airport</td>\n",
              "      <td>Russia</td>\n",
              "      <td>2965</td>\n",
              "      <td>Kazan International Airport</td>\n",
              "      <td>Russia</td>\n",
              "      <td>2990</td>\n",
              "      <td>1507.989680</td>\n",
              "      <td>Canadair Regional Jet 200</td>\n",
              "      <td>0</td>\n",
              "      <td>0</td>\n",
              "    </tr>\n",
              "    <tr>\n",
              "      <th>1</th>\n",
              "      <td>2B</td>\n",
              "      <td>Aerocondor</td>\n",
              "      <td>410</td>\n",
              "      <td>Astrakhan Airport</td>\n",
              "      <td>Russia</td>\n",
              "      <td>2966</td>\n",
              "      <td>Kazan International Airport</td>\n",
              "      <td>Russia</td>\n",
              "      <td>2990</td>\n",
              "      <td>1040.943207</td>\n",
              "      <td>Canadair Regional Jet 200</td>\n",
              "      <td>0</td>\n",
              "      <td>0</td>\n",
              "    </tr>\n",
              "    <tr>\n",
              "      <th>2</th>\n",
              "      <td>2B</td>\n",
              "      <td>Aerocondor</td>\n",
              "      <td>410</td>\n",
              "      <td>Astrakhan Airport</td>\n",
              "      <td>Russia</td>\n",
              "      <td>2966</td>\n",
              "      <td>Mineralnyye Vody Airport</td>\n",
              "      <td>Russia</td>\n",
              "      <td>2962</td>\n",
              "      <td>449.036664</td>\n",
              "      <td>Canadair Regional Jet 200</td>\n",
              "      <td>0</td>\n",
              "      <td>0</td>\n",
              "    </tr>\n",
              "    <tr>\n",
              "      <th>3</th>\n",
              "      <td>2B</td>\n",
              "      <td>Aerocondor</td>\n",
              "      <td>410</td>\n",
              "      <td>Chelyabinsk Balandino Airport</td>\n",
              "      <td>Russia</td>\n",
              "      <td>2968</td>\n",
              "      <td>Kazan International Airport</td>\n",
              "      <td>Russia</td>\n",
              "      <td>2990</td>\n",
              "      <td>773.126239</td>\n",
              "      <td>Canadair Regional Jet 200</td>\n",
              "      <td>0</td>\n",
              "      <td>0</td>\n",
              "    </tr>\n",
              "    <tr>\n",
              "      <th>4</th>\n",
              "      <td>2B</td>\n",
              "      <td>Aerocondor</td>\n",
              "      <td>410</td>\n",
              "      <td>Chelyabinsk Balandino Airport</td>\n",
              "      <td>Russia</td>\n",
              "      <td>2968</td>\n",
              "      <td>Tolmachevo Airport</td>\n",
              "      <td>Russia</td>\n",
              "      <td>4078</td>\n",
              "      <td>1343.161122</td>\n",
              "      <td>Canadair Regional Jet 200</td>\n",
              "      <td>0</td>\n",
              "      <td>0</td>\n",
              "    </tr>\n",
              "    <tr>\n",
              "      <th>...</th>\n",
              "      <td>...</td>\n",
              "      <td>...</td>\n",
              "      <td>...</td>\n",
              "      <td>...</td>\n",
              "      <td>...</td>\n",
              "      <td>...</td>\n",
              "      <td>...</td>\n",
              "      <td>...</td>\n",
              "      <td>...</td>\n",
              "      <td>...</td>\n",
              "      <td>...</td>\n",
              "      <td>...</td>\n",
              "      <td>...</td>\n",
              "    </tr>\n",
              "    <tr>\n",
              "      <th>67658</th>\n",
              "      <td>ZL</td>\n",
              "      <td>Regional Express</td>\n",
              "      <td>4178</td>\n",
              "      <td>Whyalla Airport</td>\n",
              "      <td>Australia</td>\n",
              "      <td>6334</td>\n",
              "      <td>Adelaide International Airport</td>\n",
              "      <td>Australia</td>\n",
              "      <td>3341</td>\n",
              "      <td>229.334786</td>\n",
              "      <td>Saab SF340A/B</td>\n",
              "      <td>0</td>\n",
              "      <td>0</td>\n",
              "    </tr>\n",
              "    <tr>\n",
              "      <th>67659</th>\n",
              "      <td>ZM</td>\n",
              "      <td>Apache Air</td>\n",
              "      <td>19016</td>\n",
              "      <td>Domodedovo International Airport</td>\n",
              "      <td>Russia</td>\n",
              "      <td>4029</td>\n",
              "      <td>Manas International Airport</td>\n",
              "      <td>Kyrgyzstan</td>\n",
              "      <td>2912</td>\n",
              "      <td>2949.906099</td>\n",
              "      <td>Boeing 737-400</td>\n",
              "      <td>0</td>\n",
              "      <td>0</td>\n",
              "    </tr>\n",
              "    <tr>\n",
              "      <th>67660</th>\n",
              "      <td>ZM</td>\n",
              "      <td>Apache Air</td>\n",
              "      <td>19016</td>\n",
              "      <td>Manas International Airport</td>\n",
              "      <td>Kyrgyzstan</td>\n",
              "      <td>2912</td>\n",
              "      <td>Domodedovo International Airport</td>\n",
              "      <td>Russia</td>\n",
              "      <td>4029</td>\n",
              "      <td>2949.906099</td>\n",
              "      <td>Boeing 737-400</td>\n",
              "      <td>0</td>\n",
              "      <td>0</td>\n",
              "    </tr>\n",
              "    <tr>\n",
              "      <th>67661</th>\n",
              "      <td>ZM</td>\n",
              "      <td>Apache Air</td>\n",
              "      <td>19016</td>\n",
              "      <td>Manas International Airport</td>\n",
              "      <td>Kyrgyzstan</td>\n",
              "      <td>2912</td>\n",
              "      <td>Osh Airport</td>\n",
              "      <td>Kyrgyzstan</td>\n",
              "      <td>2913</td>\n",
              "      <td>306.189294</td>\n",
              "      <td>Boeing 737-400</td>\n",
              "      <td>0</td>\n",
              "      <td>0</td>\n",
              "    </tr>\n",
              "    <tr>\n",
              "      <th>67662</th>\n",
              "      <td>ZM</td>\n",
              "      <td>Apache Air</td>\n",
              "      <td>19016</td>\n",
              "      <td>Osh Airport</td>\n",
              "      <td>Kyrgyzstan</td>\n",
              "      <td>2913</td>\n",
              "      <td>Manas International Airport</td>\n",
              "      <td>Kyrgyzstan</td>\n",
              "      <td>2912</td>\n",
              "      <td>306.189294</td>\n",
              "      <td>Boeing 737-400</td>\n",
              "      <td>0</td>\n",
              "      <td>0</td>\n",
              "    </tr>\n",
              "  </tbody>\n",
              "</table>\n",
              "<p>41635 rows × 13 columns</p>\n",
              "</div>\n",
              "      <button class=\"colab-df-convert\" onclick=\"convertToInteractive('df-0a687cd7-f25c-4df9-b2a6-266a47b20c40')\"\n",
              "              title=\"Convert this dataframe to an interactive table.\"\n",
              "              style=\"display:none;\">\n",
              "        \n",
              "  <svg xmlns=\"http://www.w3.org/2000/svg\" height=\"24px\"viewBox=\"0 0 24 24\"\n",
              "       width=\"24px\">\n",
              "    <path d=\"M0 0h24v24H0V0z\" fill=\"none\"/>\n",
              "    <path d=\"M18.56 5.44l.94 2.06.94-2.06 2.06-.94-2.06-.94-.94-2.06-.94 2.06-2.06.94zm-11 1L8.5 8.5l.94-2.06 2.06-.94-2.06-.94L8.5 2.5l-.94 2.06-2.06.94zm10 10l.94 2.06.94-2.06 2.06-.94-2.06-.94-.94-2.06-.94 2.06-2.06.94z\"/><path d=\"M17.41 7.96l-1.37-1.37c-.4-.4-.92-.59-1.43-.59-.52 0-1.04.2-1.43.59L10.3 9.45l-7.72 7.72c-.78.78-.78 2.05 0 2.83L4 21.41c.39.39.9.59 1.41.59.51 0 1.02-.2 1.41-.59l7.78-7.78 2.81-2.81c.8-.78.8-2.07 0-2.86zM5.41 20L4 18.59l7.72-7.72 1.47 1.35L5.41 20z\"/>\n",
              "  </svg>\n",
              "      </button>\n",
              "      \n",
              "  <style>\n",
              "    .colab-df-container {\n",
              "      display:flex;\n",
              "      flex-wrap:wrap;\n",
              "      gap: 12px;\n",
              "    }\n",
              "\n",
              "    .colab-df-convert {\n",
              "      background-color: #E8F0FE;\n",
              "      border: none;\n",
              "      border-radius: 50%;\n",
              "      cursor: pointer;\n",
              "      display: none;\n",
              "      fill: #1967D2;\n",
              "      height: 32px;\n",
              "      padding: 0 0 0 0;\n",
              "      width: 32px;\n",
              "    }\n",
              "\n",
              "    .colab-df-convert:hover {\n",
              "      background-color: #E2EBFA;\n",
              "      box-shadow: 0px 1px 2px rgba(60, 64, 67, 0.3), 0px 1px 3px 1px rgba(60, 64, 67, 0.15);\n",
              "      fill: #174EA6;\n",
              "    }\n",
              "\n",
              "    [theme=dark] .colab-df-convert {\n",
              "      background-color: #3B4455;\n",
              "      fill: #D2E3FC;\n",
              "    }\n",
              "\n",
              "    [theme=dark] .colab-df-convert:hover {\n",
              "      background-color: #434B5C;\n",
              "      box-shadow: 0px 1px 3px 1px rgba(0, 0, 0, 0.15);\n",
              "      filter: drop-shadow(0px 1px 2px rgba(0, 0, 0, 0.3));\n",
              "      fill: #FFFFFF;\n",
              "    }\n",
              "  </style>\n",
              "\n",
              "      <script>\n",
              "        const buttonEl =\n",
              "          document.querySelector('#df-0a687cd7-f25c-4df9-b2a6-266a47b20c40 button.colab-df-convert');\n",
              "        buttonEl.style.display =\n",
              "          google.colab.kernel.accessAllowed ? 'block' : 'none';\n",
              "\n",
              "        async function convertToInteractive(key) {\n",
              "          const element = document.querySelector('#df-0a687cd7-f25c-4df9-b2a6-266a47b20c40');\n",
              "          const dataTable =\n",
              "            await google.colab.kernel.invokeFunction('convertToInteractive',\n",
              "                                                     [key], {});\n",
              "          if (!dataTable) return;\n",
              "\n",
              "          const docLinkHtml = 'Like what you see? Visit the ' +\n",
              "            '<a target=\"_blank\" href=https://colab.research.google.com/notebooks/data_table.ipynb>data table notebook</a>'\n",
              "            + ' to learn more about interactive tables.';\n",
              "          element.innerHTML = '';\n",
              "          dataTable['output_type'] = 'display_data';\n",
              "          await google.colab.output.renderOutput(dataTable, element);\n",
              "          const docLink = document.createElement('div');\n",
              "          docLink.innerHTML = docLinkHtml;\n",
              "          element.appendChild(docLink);\n",
              "        }\n",
              "      </script>\n",
              "    </div>\n",
              "  </div>\n",
              "  "
            ]
          },
          "metadata": {},
          "execution_count": 23
        }
      ]
    },
    {
      "cell_type": "code",
      "source": [
        "routes.dropna().to_csv(\"routes_clean.csv\")"
      ],
      "metadata": {
        "id": "IduxofysM_O8"
      },
      "execution_count": null,
      "outputs": []
    },
    {
      "cell_type": "markdown",
      "source": [
        "#Exploration\n",
        "* ~~Which countries are visited the most/least~~\n",
        "* ~~Which models of plane are used the most/least~~\n",
        "* ~~Given most popular destination, what models are the most popular?~~\n",
        "* Longest/Shortest distance per:\n",
        " * model\n",
        " * starting airport\n",
        "* Filter by distance\n",
        " * select routes with `Distance (km)` over certain threshold\n",
        " * International flights\n",
        "* flights with more than one stop\n"
      ],
      "metadata": {
        "id": "n9O2X1rJO0lO"
      }
    },
    {
      "cell_type": "code",
      "source": [
        "display(routes['Source Country'].value_counts())\n",
        "routes['Source Country'].value_counts()[:25].to_frame().plot.bar()"
      ],
      "metadata": {
        "id": "TiEZkeW7wc2I",
        "colab": {
          "base_uri": "https://localhost:8080/",
          "height": 588
        },
        "outputId": "f3af1a1b-b38e-4570-b70a-75dac5ae58b0"
      },
      "execution_count": null,
      "outputs": [
        {
          "output_type": "display_data",
          "data": {
            "text/plain": [
              "United States              12974\n",
              "China                       8174\n",
              "United Kingdom              2661\n",
              "Spain                       2527\n",
              "Germany                     2351\n",
              "                           ...  \n",
              "American Samoa                 1\n",
              "Lesotho                        1\n",
              "Swaziland                      1\n",
              "Tuvalu                         1\n",
              "Cocos (Keeling) Islands        1\n",
              "Name: Source Country, Length: 225, dtype: int64"
            ]
          },
          "metadata": {}
        },
        {
          "output_type": "execute_result",
          "data": {
            "text/plain": [
              "<AxesSubplot:>"
            ]
          },
          "metadata": {},
          "execution_count": 25
        },
        {
          "output_type": "display_data",
          "data": {
            "text/plain": [
              "<Figure size 432x288 with 1 Axes>"
            ],
            "image/png": "[encoded data removed]"
          },
          "metadata": {
            "needs_background": "light"
          }
        }
      ]
    },
    {
      "cell_type": "code",
      "source": [
        "display(routes['Destination Country'].value_counts()) #What country is missing from this dataset?\n",
        "routes['Destination Country'].value_counts()[:25].to_frame().plot.bar()"
      ],
      "metadata": {
        "id": "56Zxsn1dq-3T",
        "colab": {
          "base_uri": "https://localhost:8080/",
          "height": 588
        },
        "outputId": "d57875c6-ada6-4dd9-a1f2-be64722dfd55"
      },
      "execution_count": null,
      "outputs": [
        {
          "output_type": "display_data",
          "data": {
            "text/plain": [
              "United States              12967\n",
              "China                       8174\n",
              "United Kingdom              2635\n",
              "Spain                       2530\n",
              "Germany                     2336\n",
              "                           ...  \n",
              "Falkland Islands               1\n",
              "Tuvalu                         1\n",
              "Lesotho                        1\n",
              "Swaziland                      1\n",
              "Cocos (Keeling) Islands        1\n",
              "Name: Destination Country, Length: 224, dtype: int64"
            ]
          },
          "metadata": {}
        },
        {
          "output_type": "execute_result",
          "data": {
            "text/plain": [
              "<AxesSubplot:>"
            ]
          },
          "metadata": {},
          "execution_count": 26
        },
        {
          "output_type": "display_data",
          "data": {
            "text/plain": [
              "<Figure size 432x288 with 1 Axes>"
            ],
            "image/png": "[encoded data removed]"
          },
          "metadata": {
            "needs_background": "light"
          }
        }
      ]
    },
    {
      "cell_type": "markdown",
      "source": [
        "Top 5 countries are the same. That is interesting\n",
        "\n",
        "\n",
        "Finding most popular models given popular source countries:"
      ],
      "metadata": {
        "id": "tehU4WKWzzBr"
      }
    },
    {
      "cell_type": "code",
      "source": [
        "us_source_routes = routes[routes['Source Country'] == \"United States\"]\n",
        "display(us_source_routes['Plane Model'].value_counts()[:10])\n",
        "\n",
        "ch_source_routes = routes[routes['Source Country'] == \"China\"]\n",
        "display(ch_source_routes['Plane Model'].value_counts()[:10])\n",
        "\n",
        "uk_source_routes = routes[routes['Source Country'] == \"United Kingdom\"]\n",
        "display(uk_source_routes['Plane Model'].value_counts()[:10])"
      ],
      "metadata": {
        "id": "E0TJ1pCb0Sqk",
        "colab": {
          "base_uri": "https://localhost:8080/",
          "height": 590
        },
        "outputId": "de90ef90-10fe-4752-dda7-9a08190a10e4"
      },
      "execution_count": null,
      "outputs": [
        {
          "output_type": "display_data",
          "data": {
            "text/plain": [
              "Airbus A320                  559\n",
              "Boeing 737-800               489\n",
              "Airbus A319                  472\n",
              "Canadair Regional Jet 700    293\n",
              "Embraer RJ145                216\n",
              "Boeing 757                   199\n",
              "Boeing 767-300               184\n",
              "Saab SF340A/B                163\n",
              "Boeing 717                   160\n",
              "McDonnell Douglas MD-88      145\n",
              "Name: Plane Model, dtype: int64"
            ]
          },
          "metadata": {}
        },
        {
          "output_type": "display_data",
          "data": {
            "text/plain": [
              "Boeing 737-800               1775\n",
              "Airbus A320                  1695\n",
              "Boeing 737                   1213\n",
              "Airbus A319                   740\n",
              "Embraer 190                   301\n",
              "Airbus A321                   293\n",
              "Boeing 737-700                106\n",
              "Boeing 737-300                 71\n",
              "Canadair Regional Jet 900      70\n",
              "Airbus A330-300                60\n",
              "Name: Plane Model, dtype: int64"
            ]
          },
          "metadata": {}
        },
        {
          "output_type": "display_data",
          "data": {
            "text/plain": [
              "Boeing 737-800                           412\n",
              "Airbus A320                              204\n",
              "Airbus A319                              170\n",
              "De Havilland Canada DHC-8-400 Dash 8Q     93\n",
              "Boeing 777                                83\n",
              "Airbus A321                               67\n",
              "Boeing 737-300                            65\n",
              "Boeing 747-400                            48\n",
              "Boeing 757-200                            45\n",
              "Saab SF340A/B                             25\n",
              "Name: Plane Model, dtype: int64"
            ]
          },
          "metadata": {}
        }
      ]
    },
    {
      "cell_type": "code",
      "source": [
        "display(us_source_routes['Destination Country'].value_counts())\n",
        "display(ch_source_routes['Destination Country'].value_counts())\n",
        "display(uk_source_routes['Destination Country'].value_counts())"
      ],
      "metadata": {
        "id": "8ylehB-a7C1g",
        "colab": {
          "base_uri": "https://localhost:8080/",
          "height": 642
        },
        "outputId": "df4d221a-6652-449a-d501-95e6064e7723"
      },
      "execution_count": null,
      "outputs": [
        {
          "output_type": "display_data",
          "data": {
            "text/plain": [
              "United States     10471\n",
              "Mexico              369\n",
              "Canada              364\n",
              "United Kingdom      207\n",
              "Germany             114\n",
              "                  ...  \n",
              "American Samoa        1\n",
              "Samoa                 1\n",
              "Ghana                 1\n",
              "Morocco               1\n",
              "Cape Verde            1\n",
              "Name: Destination Country, Length: 94, dtype: int64"
            ]
          },
          "metadata": {}
        },
        {
          "output_type": "display_data",
          "data": {
            "text/plain": [
              "China           6976\n",
              "Taiwan           191\n",
              "South Korea      152\n",
              "Japan            140\n",
              "Hong Kong        118\n",
              "                ... \n",
              "Turkmenistan       1\n",
              "Algeria            1\n",
              "Georgia            1\n",
              "Angola             1\n",
              "Brunei             1\n",
              "Name: Destination Country, Length: 64, dtype: int64"
            ]
          },
          "metadata": {}
        },
        {
          "output_type": "display_data",
          "data": {
            "text/plain": [
              "Spain             518\n",
              "United Kingdom    309\n",
              "United States     203\n",
              "France            158\n",
              "Italy             141\n",
              "                 ... \n",
              "Argentina           1\n",
              "Albania             1\n",
              "Belarus             1\n",
              "Moldova             1\n",
              "Oman                1\n",
              "Name: Destination Country, Length: 100, dtype: int64"
            ]
          },
          "metadata": {}
        }
      ]
    },
    {
      "cell_type": "markdown",
      "source": [
        "A lot of domestic flights within US and China, might want to check against only international flights."
      ],
      "metadata": {
        "id": "IC6QgCYB7hcs"
      }
    },
    {
      "cell_type": "code",
      "source": [
        "us_dest_routes = routes[routes['Destination Country'] == \"United States\"]\n",
        "display(us_dest_routes['Plane Model'].value_counts()[:10])\n",
        "\n",
        "ch_dest_routes = routes[routes['Destination Country'] == \"China\"]\n",
        "display(ch_dest_routes['Plane Model'].value_counts()[:10])\n",
        "\n",
        "uk_dest_routes = routes[routes['Destination Country'] == \"United Kingdom\"]\n",
        "display(uk_dest_routes['Plane Model'].value_counts()[:10])"
      ],
      "metadata": {
        "id": "5go7Fhgm16ZF",
        "colab": {
          "base_uri": "https://localhost:8080/",
          "height": 590
        },
        "outputId": "1e020da6-7cc9-402a-b89c-f5ef7ca07f5b"
      },
      "execution_count": null,
      "outputs": [
        {
          "output_type": "display_data",
          "data": {
            "text/plain": [
              "Airbus A320                  558\n",
              "Boeing 737-800               493\n",
              "Airbus A319                  470\n",
              "Canadair Regional Jet 700    293\n",
              "Embraer RJ145                215\n",
              "Boeing 757                   200\n",
              "Boeing 767-300               183\n",
              "Saab SF340A/B                163\n",
              "Boeing 717                   160\n",
              "Canadair Regional Jet 900    144\n",
              "Name: Plane Model, dtype: int64"
            ]
          },
          "metadata": {}
        },
        {
          "output_type": "display_data",
          "data": {
            "text/plain": [
              "Boeing 737-800               1776\n",
              "Airbus A320                  1693\n",
              "Boeing 737                   1213\n",
              "Airbus A319                   739\n",
              "Embraer 190                   301\n",
              "Airbus A321                   293\n",
              "Boeing 737-700                106\n",
              "Boeing 737-300                 71\n",
              "Canadair Regional Jet 900      70\n",
              "Airbus A330-300                59\n",
              "Name: Plane Model, dtype: int64"
            ]
          },
          "metadata": {}
        },
        {
          "output_type": "display_data",
          "data": {
            "text/plain": [
              "Boeing 737-800                           412\n",
              "Airbus A320                              203\n",
              "Airbus A319                              171\n",
              "De Havilland Canada DHC-8-400 Dash 8Q     93\n",
              "Boeing 777                                84\n",
              "Boeing 737-300                            65\n",
              "Airbus A321                               63\n",
              "Boeing 747-400                            49\n",
              "Boeing 757-200                            46\n",
              "Saab SF340A/B                             25\n",
              "Name: Plane Model, dtype: int64"
            ]
          },
          "metadata": {}
        }
      ]
    },
    {
      "cell_type": "markdown",
      "source": [
        "Most of the planes entering the country seem to be leaving the country. This is interesting, but it's to be expected. "
      ],
      "metadata": {
        "id": "Ml1nMUAl2Hxk"
      }
    },
    {
      "cell_type": "code",
      "source": [
        "display(us_dest_routes['Source Country'].value_counts())\n",
        "display(ch_dest_routes['Source Country'].value_counts())\n",
        "display(uk_dest_routes['Source Country'].value_counts())"
      ],
      "metadata": {
        "id": "sTqlMpZm70fG",
        "colab": {
          "base_uri": "https://localhost:8080/",
          "height": 642
        },
        "outputId": "892eff8e-24d1-4526-fd2b-d9c5d9e178ac"
      },
      "execution_count": null,
      "outputs": [
        {
          "output_type": "display_data",
          "data": {
            "text/plain": [
              "United States       10471\n",
              "Mexico                373\n",
              "Canada                362\n",
              "United Kingdom        203\n",
              "Germany               114\n",
              "                    ...  \n",
              "Ukraine                 1\n",
              "Morocco                 1\n",
              "Guam                    1\n",
              "Marshall Islands        1\n",
              "Cape Verde              1\n",
              "Name: Source Country, Length: 92, dtype: int64"
            ]
          },
          "metadata": {}
        },
        {
          "output_type": "display_data",
          "data": {
            "text/plain": [
              "China           6976\n",
              "Taiwan           191\n",
              "South Korea      151\n",
              "Japan            140\n",
              "Hong Kong        117\n",
              "                ... \n",
              "Georgia            1\n",
              "Angola             1\n",
              "Algeria            1\n",
              "Turkmenistan       1\n",
              "Mexico             1\n",
              "Name: Source Country, Length: 63, dtype: int64"
            ]
          },
          "metadata": {}
        },
        {
          "output_type": "display_data",
          "data": {
            "text/plain": [
              "Spain             512\n",
              "United Kingdom    309\n",
              "United States     207\n",
              "France            157\n",
              "Italy             141\n",
              "                 ... \n",
              "Maldives            1\n",
              "Bahamas             1\n",
              "Albania             1\n",
              "Bangladesh          1\n",
              "Oman                1\n",
              "Name: Source Country, Length: 100, dtype: int64"
            ]
          },
          "metadata": {}
        }
      ]
    },
    {
      "cell_type": "code",
      "source": [
        "display(routes['Plane Model'].value_counts())\n",
        "routes['Plane Model'].value_counts()[:25].to_frame().plot.bar()"
      ],
      "metadata": {
        "id": "Udu74pfawPGK",
        "colab": {
          "base_uri": "https://localhost:8080/",
          "height": 690
        },
        "outputId": "1b65b1b1-2faa-4796-fdb9-0d6bfab5e275"
      },
      "execution_count": null,
      "outputs": [
        {
          "output_type": "display_data",
          "data": {
            "text/plain": [
              "Airbus A320                   9091\n",
              "Boeing 737-800                7080\n",
              "Airbus A319                   3393\n",
              "Boeing 737                    2187\n",
              "Aerospatiale/Alenia ATR 72    1136\n",
              "                              ... \n",
              "Airbus A340-200                  4\n",
              "McDonnell Douglas MD-11          4\n",
              "Yakovlev Yak-40                  4\n",
              "Sikorsky S-76                    2\n",
              "BAe 146-100                      2\n",
              "Name: Plane Model, Length: 113, dtype: int64"
            ]
          },
          "metadata": {}
        },
        {
          "output_type": "execute_result",
          "data": {
            "text/plain": [
              "<AxesSubplot:>"
            ]
          },
          "metadata": {},
          "execution_count": 31
        },
        {
          "output_type": "display_data",
          "data": {
            "text/plain": [
              "<Figure size 432x288 with 1 Axes>"
            ],
            "image/png": "[encoded data removed]"
          },
          "metadata": {
            "needs_background": "light"
          }
        }
      ]
    },
    {
      "cell_type": "markdown",
      "source": [
        "###Long distance flights\n",
        "\n"
      ],
      "metadata": {
        "id": "3g1nhV-86aZ6"
      }
    },
    {
      "cell_type": "code",
      "source": [
        "long_dist_routes = routes[routes['Distance (KM)'] >= 5000]\n",
        "long_dist_routes"
      ],
      "metadata": {
        "id": "TO93_OTjwxKZ",
        "colab": {
          "base_uri": "https://localhost:8080/",
          "height": 725
        },
        "outputId": "11deb57e-25c9-4f9f-e7cc-410ce029a04e"
      },
      "execution_count": null,
      "outputs": [
        {
          "output_type": "execute_result",
          "data": {
            "text/plain": [
              "                    IATA/ICAO Code            Airline  Airline ID  \\\n",
              "Index W.R.T. Origin                                                 \n",
              "186                             2P    Air Philippines         897   \n",
              "196                             2P    Air Philippines         897   \n",
              "642                             3U   Sichuan Airlines        4608   \n",
              "690                             3U   Sichuan Airlines        4608   \n",
              "837                             3U   Sichuan Airlines        4608   \n",
              "...                            ...                ...         ...   \n",
              "65623                           XY            Nas Air        3754   \n",
              "65634                           XY            Nas Air        3754   \n",
              "65647                           XY            Nas Air        3754   \n",
              "66623                           ZH  Shenzhen Airlines        4611   \n",
              "66631                           ZH  Shenzhen Airlines        4611   \n",
              "\n",
              "                                               Source Airport  \\\n",
              "Index W.R.T. Origin                                             \n",
              "186                          Al Maktoum International Airport   \n",
              "196                        Ninoy Aquino International Airport   \n",
              "642                  Chongqing Jiangbei International Airport   \n",
              "690                   Chengdu Shuangliu International Airport   \n",
              "837                           Melbourne International Airport   \n",
              "...                                                       ...   \n",
              "65623                    King Abdulaziz International Airport   \n",
              "65634                    King Abdulaziz International Airport   \n",
              "65647                      Kuala Lumpur International Airport   \n",
              "66623                  Addis Ababa Bole International Airport   \n",
              "66631                  Guangzhou Baiyun International Airport   \n",
              "\n",
              "                           Source Country  Source Airport ID  \\\n",
              "Index W.R.T. Origin                                            \n",
              "186                  United Arab Emirates               8076   \n",
              "196                           Philippines               2397   \n",
              "642                                 China               3393   \n",
              "690                                 China               3395   \n",
              "837                             Australia               3339   \n",
              "...                                   ...                ...   \n",
              "65623                        Saudi Arabia               2072   \n",
              "65634                        Saudi Arabia               2072   \n",
              "65647                            Malaysia               3304   \n",
              "66623                            Ethiopia               1107   \n",
              "66631                               China               3370   \n",
              "\n",
              "                                              Destination Airport  \\\n",
              "Index W.R.T. Origin                                                 \n",
              "186                            Ninoy Aquino International Airport   \n",
              "196                              Al Maktoum International Airport   \n",
              "642                  Sydney Kingsford Smith International Airport   \n",
              "690                               Melbourne International Airport   \n",
              "837                       Chengdu Shuangliu International Airport   \n",
              "...                                                           ...   \n",
              "65623                        Soekarno-Hatta International Airport   \n",
              "65634                          Kuala Lumpur International Airport   \n",
              "65647                        King Abdulaziz International Airport   \n",
              "66623                      Guangzhou Baiyun International Airport   \n",
              "66631                      Addis Ababa Bole International Airport   \n",
              "\n",
              "                      Destination Country  Destination Airport ID  \\\n",
              "Index W.R.T. Origin                                                 \n",
              "186                           Philippines                    2397   \n",
              "196                  United Arab Emirates                    8076   \n",
              "642                             Australia                    3361   \n",
              "690                             Australia                    3339   \n",
              "837                                 China                    3395   \n",
              "...                                   ...                     ...   \n",
              "65623                           Indonesia                    3275   \n",
              "65634                            Malaysia                    3304   \n",
              "65647                        Saudi Arabia                    2072   \n",
              "66623                               China                    3370   \n",
              "66631                            Ethiopia                    1107   \n",
              "\n",
              "                     Distance (KM)  Plane Model  Stops  Codeshare  \n",
              "Index W.R.T. Origin                                                \n",
              "186                    6938.316898  Airbus A330      0          0  \n",
              "196                    6938.316898  Airbus A330      0          0  \n",
              "642                    8461.501184  Airbus A330      0          0  \n",
              "690                    8671.064608  Airbus A330      0          0  \n",
              "837                    8671.064608  Airbus A330      0          0  \n",
              "...                            ...          ...    ...        ...  \n",
              "65623                  7973.639120  Airbus A330      0          0  \n",
              "65634                  7070.862742  Airbus A330      0          0  \n",
              "65647                  7070.862742  Airbus A330      0          0  \n",
              "66623                  8047.247523   Boeing 737      0          1  \n",
              "66631                  8047.247523   Boeing 737      0          1  \n",
              "\n",
              "[5384 rows x 13 columns]"
            ],
            "text/html": [
              "\n",
              "  <div id=\"df-7b710fab-a446-442a-abec-6655010e3628\">\n",
              "    <div class=\"colab-df-container\">\n",
              "      <div>\n",
              "<style scoped>\n",
              "    .dataframe tbody tr th:only-of-type {\n",
              "        vertical-align: middle;\n",
              "    }\n",
              "\n",
              "    .dataframe tbody tr th {\n",
              "        vertical-align: top;\n",
              "    }\n",
              "\n",
              "    .dataframe thead th {\n",
              "        text-align: right;\n",
              "    }\n",
              "</style>\n",
              "<table border=\"1\" class=\"dataframe\">\n",
              "  <thead>\n",
              "    <tr style=\"text-align: right;\">\n",
              "      <th></th>\n",
              "      <th>IATA/ICAO Code</th>\n",
              "      <th>Airline</th>\n",
              "      <th>Airline ID</th>\n",
              "      <th>Source Airport</th>\n",
              "      <th>Source Country</th>\n",
              "      <th>Source Airport ID</th>\n",
              "      <th>Destination Airport</th>\n",
              "      <th>Destination Country</th>\n",
              "      <th>Destination Airport ID</th>\n",
              "      <th>Distance (KM)</th>\n",
              "      <th>Plane Model</th>\n",
              "      <th>Stops</th>\n",
              "      <th>Codeshare</th>\n",
              "    </tr>\n",
              "    <tr>\n",
              "      <th>Index W.R.T. Origin</th>\n",
              "      <th></th>\n",
              "      <th></th>\n",
              "      <th></th>\n",
              "      <th></th>\n",
              "      <th></th>\n",
              "      <th></th>\n",
              "      <th></th>\n",
              "      <th></th>\n",
              "      <th></th>\n",
              "      <th></th>\n",
              "      <th></th>\n",
              "      <th></th>\n",
              "      <th></th>\n",
              "    </tr>\n",
              "  </thead>\n",
              "  <tbody>\n",
              "    <tr>\n",
              "      <th>186</th>\n",
              "      <td>2P</td>\n",
              "      <td>Air Philippines</td>\n",
              "      <td>897</td>\n",
              "      <td>Al Maktoum International Airport</td>\n",
              "      <td>United Arab Emirates</td>\n",
              "      <td>8076</td>\n",
              "      <td>Ninoy Aquino International Airport</td>\n",
              "      <td>Philippines</td>\n",
              "      <td>2397</td>\n",
              "      <td>6938.316898</td>\n",
              "      <td>Airbus A330</td>\n",
              "      <td>0</td>\n",
              "      <td>0</td>\n",
              "    </tr>\n",
              "    <tr>\n",
              "      <th>196</th>\n",
              "      <td>2P</td>\n",
              "      <td>Air Philippines</td>\n",
              "      <td>897</td>\n",
              "      <td>Ninoy Aquino International Airport</td>\n",
              "      <td>Philippines</td>\n",
              "      <td>2397</td>\n",
              "      <td>Al Maktoum International Airport</td>\n",
              "      <td>United Arab Emirates</td>\n",
              "      <td>8076</td>\n",
              "      <td>6938.316898</td>\n",
              "      <td>Airbus A330</td>\n",
              "      <td>0</td>\n",
              "      <td>0</td>\n",
              "    </tr>\n",
              "    <tr>\n",
              "      <th>642</th>\n",
              "      <td>3U</td>\n",
              "      <td>Sichuan Airlines</td>\n",
              "      <td>4608</td>\n",
              "      <td>Chongqing Jiangbei International Airport</td>\n",
              "      <td>China</td>\n",
              "      <td>3393</td>\n",
              "      <td>Sydney Kingsford Smith International Airport</td>\n",
              "      <td>Australia</td>\n",
              "      <td>3361</td>\n",
              "      <td>8461.501184</td>\n",
              "      <td>Airbus A330</td>\n",
              "      <td>0</td>\n",
              "      <td>0</td>\n",
              "    </tr>\n",
              "    <tr>\n",
              "      <th>690</th>\n",
              "      <td>3U</td>\n",
              "      <td>Sichuan Airlines</td>\n",
              "      <td>4608</td>\n",
              "      <td>Chengdu Shuangliu International Airport</td>\n",
              "      <td>China</td>\n",
              "      <td>3395</td>\n",
              "      <td>Melbourne International Airport</td>\n",
              "      <td>Australia</td>\n",
              "      <td>3339</td>\n",
              "      <td>8671.064608</td>\n",
              "      <td>Airbus A330</td>\n",
              "      <td>0</td>\n",
              "      <td>0</td>\n",
              "    </tr>\n",
              "    <tr>\n",
              "      <th>837</th>\n",
              "      <td>3U</td>\n",
              "      <td>Sichuan Airlines</td>\n",
              "      <td>4608</td>\n",
              "      <td>Melbourne International Airport</td>\n",
              "      <td>Australia</td>\n",
              "      <td>3339</td>\n",
              "      <td>Chengdu Shuangliu International Airport</td>\n",
              "      <td>China</td>\n",
              "      <td>3395</td>\n",
              "      <td>8671.064608</td>\n",
              "      <td>Airbus A330</td>\n",
              "      <td>0</td>\n",
              "      <td>0</td>\n",
              "    </tr>\n",
              "    <tr>\n",
              "      <th>...</th>\n",
              "      <td>...</td>\n",
              "      <td>...</td>\n",
              "      <td>...</td>\n",
              "      <td>...</td>\n",
              "      <td>...</td>\n",
              "      <td>...</td>\n",
              "      <td>...</td>\n",
              "      <td>...</td>\n",
              "      <td>...</td>\n",
              "      <td>...</td>\n",
              "      <td>...</td>\n",
              "      <td>...</td>\n",
              "      <td>...</td>\n",
              "    </tr>\n",
              "    <tr>\n",
              "      <th>65623</th>\n",
              "      <td>XY</td>\n",
              "      <td>Nas Air</td>\n",
              "      <td>3754</td>\n",
              "      <td>King Abdulaziz International Airport</td>\n",
              "      <td>Saudi Arabia</td>\n",
              "      <td>2072</td>\n",
              "      <td>Soekarno-Hatta International Airport</td>\n",
              "      <td>Indonesia</td>\n",
              "      <td>3275</td>\n",
              "      <td>7973.639120</td>\n",
              "      <td>Airbus A330</td>\n",
              "      <td>0</td>\n",
              "      <td>0</td>\n",
              "    </tr>\n",
              "    <tr>\n",
              "      <th>65634</th>\n",
              "      <td>XY</td>\n",
              "      <td>Nas Air</td>\n",
              "      <td>3754</td>\n",
              "      <td>King Abdulaziz International Airport</td>\n",
              "      <td>Saudi Arabia</td>\n",
              "      <td>2072</td>\n",
              "      <td>Kuala Lumpur International Airport</td>\n",
              "      <td>Malaysia</td>\n",
              "      <td>3304</td>\n",
              "      <td>7070.862742</td>\n",
              "      <td>Airbus A330</td>\n",
              "      <td>0</td>\n",
              "      <td>0</td>\n",
              "    </tr>\n",
              "    <tr>\n",
              "      <th>65647</th>\n",
              "      <td>XY</td>\n",
              "      <td>Nas Air</td>\n",
              "      <td>3754</td>\n",
              "      <td>Kuala Lumpur International Airport</td>\n",
              "      <td>Malaysia</td>\n",
              "      <td>3304</td>\n",
              "      <td>King Abdulaziz International Airport</td>\n",
              "      <td>Saudi Arabia</td>\n",
              "      <td>2072</td>\n",
              "      <td>7070.862742</td>\n",
              "      <td>Airbus A330</td>\n",
              "      <td>0</td>\n",
              "      <td>0</td>\n",
              "    </tr>\n",
              "    <tr>\n",
              "      <th>66623</th>\n",
              "      <td>ZH</td>\n",
              "      <td>Shenzhen Airlines</td>\n",
              "      <td>4611</td>\n",
              "      <td>Addis Ababa Bole International Airport</td>\n",
              "      <td>Ethiopia</td>\n",
              "      <td>1107</td>\n",
              "      <td>Guangzhou Baiyun International Airport</td>\n",
              "      <td>China</td>\n",
              "      <td>3370</td>\n",
              "      <td>8047.247523</td>\n",
              "      <td>Boeing 737</td>\n",
              "      <td>0</td>\n",
              "      <td>1</td>\n",
              "    </tr>\n",
              "    <tr>\n",
              "      <th>66631</th>\n",
              "      <td>ZH</td>\n",
              "      <td>Shenzhen Airlines</td>\n",
              "      <td>4611</td>\n",
              "      <td>Guangzhou Baiyun International Airport</td>\n",
              "      <td>China</td>\n",
              "      <td>3370</td>\n",
              "      <td>Addis Ababa Bole International Airport</td>\n",
              "      <td>Ethiopia</td>\n",
              "      <td>1107</td>\n",
              "      <td>8047.247523</td>\n",
              "      <td>Boeing 737</td>\n",
              "      <td>0</td>\n",
              "      <td>1</td>\n",
              "    </tr>\n",
              "  </tbody>\n",
              "</table>\n",
              "<p>5384 rows × 13 columns</p>\n",
              "</div>\n",
              "      <button class=\"colab-df-convert\" onclick=\"convertToInteractive('df-7b710fab-a446-442a-abec-6655010e3628')\"\n",
              "              title=\"Convert this dataframe to an interactive table.\"\n",
              "              style=\"display:none;\">\n",
              "        \n",
              "  <svg xmlns=\"http://www.w3.org/2000/svg\" height=\"24px\"viewBox=\"0 0 24 24\"\n",
              "       width=\"24px\">\n",
              "    <path d=\"M0 0h24v24H0V0z\" fill=\"none\"/>\n",
              "    <path d=\"M18.56 5.44l.94 2.06.94-2.06 2.06-.94-2.06-.94-.94-2.06-.94 2.06-2.06.94zm-11 1L8.5 8.5l.94-2.06 2.06-.94-2.06-.94L8.5 2.5l-.94 2.06-2.06.94zm10 10l.94 2.06.94-2.06 2.06-.94-2.06-.94-.94-2.06-.94 2.06-2.06.94z\"/><path d=\"M17.41 7.96l-1.37-1.37c-.4-.4-.92-.59-1.43-.59-.52 0-1.04.2-1.43.59L10.3 9.45l-7.72 7.72c-.78.78-.78 2.05 0 2.83L4 21.41c.39.39.9.59 1.41.59.51 0 1.02-.2 1.41-.59l7.78-7.78 2.81-2.81c.8-.78.8-2.07 0-2.86zM5.41 20L4 18.59l7.72-7.72 1.47 1.35L5.41 20z\"/>\n",
              "  </svg>\n",
              "      </button>\n",
              "      \n",
              "  <style>\n",
              "    .colab-df-container {\n",
              "      display:flex;\n",
              "      flex-wrap:wrap;\n",
              "      gap: 12px;\n",
              "    }\n",
              "\n",
              "    .colab-df-convert {\n",
              "      background-color: #E8F0FE;\n",
              "      border: none;\n",
              "      border-radius: 50%;\n",
              "      cursor: pointer;\n",
              "      display: none;\n",
              "      fill: #1967D2;\n",
              "      height: 32px;\n",
              "      padding: 0 0 0 0;\n",
              "      width: 32px;\n",
              "    }\n",
              "\n",
              "    .colab-df-convert:hover {\n",
              "      background-color: #E2EBFA;\n",
              "      box-shadow: 0px 1px 2px rgba(60, 64, 67, 0.3), 0px 1px 3px 1px rgba(60, 64, 67, 0.15);\n",
              "      fill: #174EA6;\n",
              "    }\n",
              "\n",
              "    [theme=dark] .colab-df-convert {\n",
              "      background-color: #3B4455;\n",
              "      fill: #D2E3FC;\n",
              "    }\n",
              "\n",
              "    [theme=dark] .colab-df-convert:hover {\n",
              "      background-color: #434B5C;\n",
              "      box-shadow: 0px 1px 3px 1px rgba(0, 0, 0, 0.15);\n",
              "      filter: drop-shadow(0px 1px 2px rgba(0, 0, 0, 0.3));\n",
              "      fill: #FFFFFF;\n",
              "    }\n",
              "  </style>\n",
              "\n",
              "      <script>\n",
              "        const buttonEl =\n",
              "          document.querySelector('#df-7b710fab-a446-442a-abec-6655010e3628 button.colab-df-convert');\n",
              "        buttonEl.style.display =\n",
              "          google.colab.kernel.accessAllowed ? 'block' : 'none';\n",
              "\n",
              "        async function convertToInteractive(key) {\n",
              "          const element = document.querySelector('#df-7b710fab-a446-442a-abec-6655010e3628');\n",
              "          const dataTable =\n",
              "            await google.colab.kernel.invokeFunction('convertToInteractive',\n",
              "                                                     [key], {});\n",
              "          if (!dataTable) return;\n",
              "\n",
              "          const docLinkHtml = 'Like what you see? Visit the ' +\n",
              "            '<a target=\"_blank\" href=https://colab.research.google.com/notebooks/data_table.ipynb>data table notebook</a>'\n",
              "            + ' to learn more about interactive tables.';\n",
              "          element.innerHTML = '';\n",
              "          dataTable['output_type'] = 'display_data';\n",
              "          await google.colab.output.renderOutput(dataTable, element);\n",
              "          const docLink = document.createElement('div');\n",
              "          docLink.innerHTML = docLinkHtml;\n",
              "          element.appendChild(docLink);\n",
              "        }\n",
              "      </script>\n",
              "    </div>\n",
              "  </div>\n",
              "  "
            ]
          },
          "metadata": {},
          "execution_count": 32
        }
      ]
    },
    {
      "cell_type": "code",
      "source": [
        "international_routes = routes[routes['Source Country'] != routes['Destination Country']]\n",
        "international_routes"
      ],
      "metadata": {
        "id": "CyrjkNPeyGvG",
        "colab": {
          "base_uri": "https://localhost:8080/",
          "height": 742
        },
        "outputId": "080c8570-c94a-4fa3-9af6-4e53fcc89bf4"
      },
      "execution_count": null,
      "outputs": [
        {
          "output_type": "execute_result",
          "data": {
            "text/plain": [
              "                    IATA/ICAO Code      Airline  Airline ID  \\\n",
              "Index W.R.T. Origin                                           \n",
              "11                              2B   Aerocondor         410   \n",
              "25                              2B   Aerocondor         410   \n",
              "81                              2J  Air Burkina         470   \n",
              "82                              2J  Air Burkina         470   \n",
              "83                              2J  Air Burkina         470   \n",
              "...                            ...          ...         ...   \n",
              "67507                           ZI   Aigle Azur          21   \n",
              "67508                           ZI   Aigle Azur          21   \n",
              "67509                           ZI   Aigle Azur          21   \n",
              "67659                           ZM   Apache Air       19016   \n",
              "67660                           ZM   Apache Air       19016   \n",
              "\n",
              "                                          Source Airport Source Country  \\\n",
              "Index W.R.T. Origin                                                       \n",
              "11                   Heydar Aliyev International Airport     Azerbaijan   \n",
              "25                                     Begishevo Airport         Russia   \n",
              "81                                    Port Bouet Airport  Cote d'Ivoire   \n",
              "82                                    Port Bouet Airport  Cote d'Ivoire   \n",
              "83                          Kotoka International Airport          Ghana   \n",
              "...                                                  ...            ...   \n",
              "67507                           Toulouse-Blagnac Airport         France   \n",
              "67508                           Toulouse-Blagnac Airport         France   \n",
              "67509                      Vnukovo International Airport         Russia   \n",
              "67659                   Domodedovo International Airport         Russia   \n",
              "67660                        Manas International Airport     Kyrgyzstan   \n",
              "\n",
              "                     Source Airport ID                  Destination Airport  \\\n",
              "Index W.R.T. Origin                                                           \n",
              "11                                2922                    Begishevo Airport   \n",
              "25                                6969  Heydar Aliyev International Airport   \n",
              "81                                 253               Bobo Dioulasso Airport   \n",
              "82                                 253                  Ouagadougou Airport   \n",
              "83                                 248                  Ouagadougou Airport   \n",
              "...                                ...                                  ...   \n",
              "67507                             1273            Houari Boumediene Airport   \n",
              "67508                             1273                     Es Senia Airport   \n",
              "67509                             2988                   Paris-Orly Airport   \n",
              "67659                             4029          Manas International Airport   \n",
              "67660                             2912     Domodedovo International Airport   \n",
              "\n",
              "                    Destination Country  Destination Airport ID  \\\n",
              "Index W.R.T. Origin                                               \n",
              "11                               Russia                    6969   \n",
              "25                           Azerbaijan                    2922   \n",
              "81                         Burkina Faso                     247   \n",
              "82                         Burkina Faso                     246   \n",
              "83                         Burkina Faso                     246   \n",
              "...                                 ...                     ...   \n",
              "67507                           Algeria                     210   \n",
              "67508                           Algeria                     231   \n",
              "67509                            France                    1386   \n",
              "67659                        Kyrgyzstan                    2912   \n",
              "67660                            Russia                    4029   \n",
              "\n",
              "                     Distance (KM)                Plane Model  Stops  \\\n",
              "Index W.R.T. Origin                                                    \n",
              "11                     1685.392112  Canadair Regional Jet 200      0   \n",
              "25                     1685.392112  Canadair Regional Jet 200      0   \n",
              "81                      653.905374                        NaN      0   \n",
              "82                      828.044395                        NaN      0   \n",
              "83                      760.856470                        NaN      0   \n",
              "...                            ...                        ...    ...   \n",
              "67507                   786.314943                        NaN      0   \n",
              "67508                   904.911332                        NaN      0   \n",
              "67509                  2476.274912                Airbus A320      0   \n",
              "67659                  2949.906099             Boeing 737-400      0   \n",
              "67660                  2949.906099             Boeing 737-400      0   \n",
              "\n",
              "                     Codeshare  \n",
              "Index W.R.T. Origin             \n",
              "11                           0  \n",
              "25                           0  \n",
              "81                           0  \n",
              "82                           0  \n",
              "83                           0  \n",
              "...                        ...  \n",
              "67507                        0  \n",
              "67508                        0  \n",
              "67509                        0  \n",
              "67659                        0  \n",
              "67660                        0  \n",
              "\n",
              "[34671 rows x 13 columns]"
            ],
            "text/html": [
              "\n",
              "  <div id=\"df-894eb719-2bea-42fd-9459-fd0f72385cef\">\n",
              "    <div class=\"colab-df-container\">\n",
              "      <div>\n",
              "<style scoped>\n",
              "    .dataframe tbody tr th:only-of-type {\n",
              "        vertical-align: middle;\n",
              "    }\n",
              "\n",
              "    .dataframe tbody tr th {\n",
              "        vertical-align: top;\n",
              "    }\n",
              "\n",
              "    .dataframe thead th {\n",
              "        text-align: right;\n",
              "    }\n",
              "</style>\n",
              "<table border=\"1\" class=\"dataframe\">\n",
              "  <thead>\n",
              "    <tr style=\"text-align: right;\">\n",
              "      <th></th>\n",
              "      <th>IATA/ICAO Code</th>\n",
              "      <th>Airline</th>\n",
              "      <th>Airline ID</th>\n",
              "      <th>Source Airport</th>\n",
              "      <th>Source Country</th>\n",
              "      <th>Source Airport ID</th>\n",
              "      <th>Destination Airport</th>\n",
              "      <th>Destination Country</th>\n",
              "      <th>Destination Airport ID</th>\n",
              "      <th>Distance (KM)</th>\n",
              "      <th>Plane Model</th>\n",
              "      <th>Stops</th>\n",
              "      <th>Codeshare</th>\n",
              "    </tr>\n",
              "    <tr>\n",
              "      <th>Index W.R.T. Origin</th>\n",
              "      <th></th>\n",
              "      <th></th>\n",
              "      <th></th>\n",
              "      <th></th>\n",
              "      <th></th>\n",
              "      <th></th>\n",
              "      <th></th>\n",
              "      <th></th>\n",
              "      <th></th>\n",
              "      <th></th>\n",
              "      <th></th>\n",
              "      <th></th>\n",
              "      <th></th>\n",
              "    </tr>\n",
              "  </thead>\n",
              "  <tbody>\n",
              "    <tr>\n",
              "      <th>11</th>\n",
              "      <td>2B</td>\n",
              "      <td>Aerocondor</td>\n",
              "      <td>410</td>\n",
              "      <td>Heydar Aliyev International Airport</td>\n",
              "      <td>Azerbaijan</td>\n",
              "      <td>2922</td>\n",
              "      <td>Begishevo Airport</td>\n",
              "      <td>Russia</td>\n",
              "      <td>6969</td>\n",
              "      <td>1685.392112</td>\n",
              "      <td>Canadair Regional Jet 200</td>\n",
              "      <td>0</td>\n",
              "      <td>0</td>\n",
              "    </tr>\n",
              "    <tr>\n",
              "      <th>25</th>\n",
              "      <td>2B</td>\n",
              "      <td>Aerocondor</td>\n",
              "      <td>410</td>\n",
              "      <td>Begishevo Airport</td>\n",
              "      <td>Russia</td>\n",
              "      <td>6969</td>\n",
              "      <td>Heydar Aliyev International Airport</td>\n",
              "      <td>Azerbaijan</td>\n",
              "      <td>2922</td>\n",
              "      <td>1685.392112</td>\n",
              "      <td>Canadair Regional Jet 200</td>\n",
              "      <td>0</td>\n",
              "      <td>0</td>\n",
              "    </tr>\n",
              "    <tr>\n",
              "      <th>81</th>\n",
              "      <td>2J</td>\n",
              "      <td>Air Burkina</td>\n",
              "      <td>470</td>\n",
              "      <td>Port Bouet Airport</td>\n",
              "      <td>Cote d'Ivoire</td>\n",
              "      <td>253</td>\n",
              "      <td>Bobo Dioulasso Airport</td>\n",
              "      <td>Burkina Faso</td>\n",
              "      <td>247</td>\n",
              "      <td>653.905374</td>\n",
              "      <td>NaN</td>\n",
              "      <td>0</td>\n",
              "      <td>0</td>\n",
              "    </tr>\n",
              "    <tr>\n",
              "      <th>82</th>\n",
              "      <td>2J</td>\n",
              "      <td>Air Burkina</td>\n",
              "      <td>470</td>\n",
              "      <td>Port Bouet Airport</td>\n",
              "      <td>Cote d'Ivoire</td>\n",
              "      <td>253</td>\n",
              "      <td>Ouagadougou Airport</td>\n",
              "      <td>Burkina Faso</td>\n",
              "      <td>246</td>\n",
              "      <td>828.044395</td>\n",
              "      <td>NaN</td>\n",
              "      <td>0</td>\n",
              "      <td>0</td>\n",
              "    </tr>\n",
              "    <tr>\n",
              "      <th>83</th>\n",
              "      <td>2J</td>\n",
              "      <td>Air Burkina</td>\n",
              "      <td>470</td>\n",
              "      <td>Kotoka International Airport</td>\n",
              "      <td>Ghana</td>\n",
              "      <td>248</td>\n",
              "      <td>Ouagadougou Airport</td>\n",
              "      <td>Burkina Faso</td>\n",
              "      <td>246</td>\n",
              "      <td>760.856470</td>\n",
              "      <td>NaN</td>\n",
              "      <td>0</td>\n",
              "      <td>0</td>\n",
              "    </tr>\n",
              "    <tr>\n",
              "      <th>...</th>\n",
              "      <td>...</td>\n",
              "      <td>...</td>\n",
              "      <td>...</td>\n",
              "      <td>...</td>\n",
              "      <td>...</td>\n",
              "      <td>...</td>\n",
              "      <td>...</td>\n",
              "      <td>...</td>\n",
              "      <td>...</td>\n",
              "      <td>...</td>\n",
              "      <td>...</td>\n",
              "      <td>...</td>\n",
              "      <td>...</td>\n",
              "    </tr>\n",
              "    <tr>\n",
              "      <th>67507</th>\n",
              "      <td>ZI</td>\n",
              "      <td>Aigle Azur</td>\n",
              "      <td>21</td>\n",
              "      <td>Toulouse-Blagnac Airport</td>\n",
              "      <td>France</td>\n",
              "      <td>1273</td>\n",
              "      <td>Houari Boumediene Airport</td>\n",
              "      <td>Algeria</td>\n",
              "      <td>210</td>\n",
              "      <td>786.314943</td>\n",
              "      <td>NaN</td>\n",
              "      <td>0</td>\n",
              "      <td>0</td>\n",
              "    </tr>\n",
              "    <tr>\n",
              "      <th>67508</th>\n",
              "      <td>ZI</td>\n",
              "      <td>Aigle Azur</td>\n",
              "      <td>21</td>\n",
              "      <td>Toulouse-Blagnac Airport</td>\n",
              "      <td>France</td>\n",
              "      <td>1273</td>\n",
              "      <td>Es Senia Airport</td>\n",
              "      <td>Algeria</td>\n",
              "      <td>231</td>\n",
              "      <td>904.911332</td>\n",
              "      <td>NaN</td>\n",
              "      <td>0</td>\n",
              "      <td>0</td>\n",
              "    </tr>\n",
              "    <tr>\n",
              "      <th>67509</th>\n",
              "      <td>ZI</td>\n",
              "      <td>Aigle Azur</td>\n",
              "      <td>21</td>\n",
              "      <td>Vnukovo International Airport</td>\n",
              "      <td>Russia</td>\n",
              "      <td>2988</td>\n",
              "      <td>Paris-Orly Airport</td>\n",
              "      <td>France</td>\n",
              "      <td>1386</td>\n",
              "      <td>2476.274912</td>\n",
              "      <td>Airbus A320</td>\n",
              "      <td>0</td>\n",
              "      <td>0</td>\n",
              "    </tr>\n",
              "    <tr>\n",
              "      <th>67659</th>\n",
              "      <td>ZM</td>\n",
              "      <td>Apache Air</td>\n",
              "      <td>19016</td>\n",
              "      <td>Domodedovo International Airport</td>\n",
              "      <td>Russia</td>\n",
              "      <td>4029</td>\n",
              "      <td>Manas International Airport</td>\n",
              "      <td>Kyrgyzstan</td>\n",
              "      <td>2912</td>\n",
              "      <td>2949.906099</td>\n",
              "      <td>Boeing 737-400</td>\n",
              "      <td>0</td>\n",
              "      <td>0</td>\n",
              "    </tr>\n",
              "    <tr>\n",
              "      <th>67660</th>\n",
              "      <td>ZM</td>\n",
              "      <td>Apache Air</td>\n",
              "      <td>19016</td>\n",
              "      <td>Manas International Airport</td>\n",
              "      <td>Kyrgyzstan</td>\n",
              "      <td>2912</td>\n",
              "      <td>Domodedovo International Airport</td>\n",
              "      <td>Russia</td>\n",
              "      <td>4029</td>\n",
              "      <td>2949.906099</td>\n",
              "      <td>Boeing 737-400</td>\n",
              "      <td>0</td>\n",
              "      <td>0</td>\n",
              "    </tr>\n",
              "  </tbody>\n",
              "</table>\n",
              "<p>34671 rows × 13 columns</p>\n",
              "</div>\n",
              "      <button class=\"colab-df-convert\" onclick=\"convertToInteractive('df-894eb719-2bea-42fd-9459-fd0f72385cef')\"\n",
              "              title=\"Convert this dataframe to an interactive table.\"\n",
              "              style=\"display:none;\">\n",
              "        \n",
              "  <svg xmlns=\"http://www.w3.org/2000/svg\" height=\"24px\"viewBox=\"0 0 24 24\"\n",
              "       width=\"24px\">\n",
              "    <path d=\"M0 0h24v24H0V0z\" fill=\"none\"/>\n",
              "    <path d=\"M18.56 5.44l.94 2.06.94-2.06 2.06-.94-2.06-.94-.94-2.06-.94 2.06-2.06.94zm-11 1L8.5 8.5l.94-2.06 2.06-.94-2.06-.94L8.5 2.5l-.94 2.06-2.06.94zm10 10l.94 2.06.94-2.06 2.06-.94-2.06-.94-.94-2.06-.94 2.06-2.06.94z\"/><path d=\"M17.41 7.96l-1.37-1.37c-.4-.4-.92-.59-1.43-.59-.52 0-1.04.2-1.43.59L10.3 9.45l-7.72 7.72c-.78.78-.78 2.05 0 2.83L4 21.41c.39.39.9.59 1.41.59.51 0 1.02-.2 1.41-.59l7.78-7.78 2.81-2.81c.8-.78.8-2.07 0-2.86zM5.41 20L4 18.59l7.72-7.72 1.47 1.35L5.41 20z\"/>\n",
              "  </svg>\n",
              "      </button>\n",
              "      \n",
              "  <style>\n",
              "    .colab-df-container {\n",
              "      display:flex;\n",
              "      flex-wrap:wrap;\n",
              "      gap: 12px;\n",
              "    }\n",
              "\n",
              "    .colab-df-convert {\n",
              "      background-color: #E8F0FE;\n",
              "      border: none;\n",
              "      border-radius: 50%;\n",
              "      cursor: pointer;\n",
              "      display: none;\n",
              "      fill: #1967D2;\n",
              "      height: 32px;\n",
              "      padding: 0 0 0 0;\n",
              "      width: 32px;\n",
              "    }\n",
              "\n",
              "    .colab-df-convert:hover {\n",
              "      background-color: #E2EBFA;\n",
              "      box-shadow: 0px 1px 2px rgba(60, 64, 67, 0.3), 0px 1px 3px 1px rgba(60, 64, 67, 0.15);\n",
              "      fill: #174EA6;\n",
              "    }\n",
              "\n",
              "    [theme=dark] .colab-df-convert {\n",
              "      background-color: #3B4455;\n",
              "      fill: #D2E3FC;\n",
              "    }\n",
              "\n",
              "    [theme=dark] .colab-df-convert:hover {\n",
              "      background-color: #434B5C;\n",
              "      box-shadow: 0px 1px 3px 1px rgba(0, 0, 0, 0.15);\n",
              "      filter: drop-shadow(0px 1px 2px rgba(0, 0, 0, 0.3));\n",
              "      fill: #FFFFFF;\n",
              "    }\n",
              "  </style>\n",
              "\n",
              "      <script>\n",
              "        const buttonEl =\n",
              "          document.querySelector('#df-894eb719-2bea-42fd-9459-fd0f72385cef button.colab-df-convert');\n",
              "        buttonEl.style.display =\n",
              "          google.colab.kernel.accessAllowed ? 'block' : 'none';\n",
              "\n",
              "        async function convertToInteractive(key) {\n",
              "          const element = document.querySelector('#df-894eb719-2bea-42fd-9459-fd0f72385cef');\n",
              "          const dataTable =\n",
              "            await google.colab.kernel.invokeFunction('convertToInteractive',\n",
              "                                                     [key], {});\n",
              "          if (!dataTable) return;\n",
              "\n",
              "          const docLinkHtml = 'Like what you see? Visit the ' +\n",
              "            '<a target=\"_blank\" href=https://colab.research.google.com/notebooks/data_table.ipynb>data table notebook</a>'\n",
              "            + ' to learn more about interactive tables.';\n",
              "          element.innerHTML = '';\n",
              "          dataTable['output_type'] = 'display_data';\n",
              "          await google.colab.output.renderOutput(dataTable, element);\n",
              "          const docLink = document.createElement('div');\n",
              "          docLink.innerHTML = docLinkHtml;\n",
              "          element.appendChild(docLink);\n",
              "        }\n",
              "      </script>\n",
              "    </div>\n",
              "  </div>\n",
              "  "
            ]
          },
          "metadata": {},
          "execution_count": 33
        }
      ]
    },
    {
      "cell_type": "code",
      "source": [
        "display(international_routes['Source Country'].value_counts())\n",
        "international_routes['Source Country'].value_counts()[:25].to_frame().plot.bar()"
      ],
      "metadata": {
        "id": "uVnhrwFE9M2h",
        "colab": {
          "base_uri": "https://localhost:8080/",
          "height": 588
        },
        "outputId": "3d18a459-557d-4bf4-9fb1-0b83e90688f0"
      },
      "execution_count": null,
      "outputs": [
        {
          "output_type": "display_data",
          "data": {
            "text/plain": [
              "United States              2503\n",
              "United Kingdom             2352\n",
              "Germany                    2139\n",
              "Spain                      1949\n",
              "France                     1442\n",
              "                           ... \n",
              "Falkland Islands              1\n",
              "Lesotho                       1\n",
              "Swaziland                     1\n",
              "Tuvalu                        1\n",
              "Cocos (Keeling) Islands       1\n",
              "Name: Source Country, Length: 225, dtype: int64"
            ]
          },
          "metadata": {}
        },
        {
          "output_type": "execute_result",
          "data": {
            "text/plain": [
              "<AxesSubplot:>"
            ]
          },
          "metadata": {},
          "execution_count": 34
        },
        {
          "output_type": "display_data",
          "data": {
            "text/plain": [
              "<Figure size 432x288 with 1 Axes>"
            ],
            "image/png": "[encoded data removed]"
          },
          "metadata": {
            "needs_background": "light"
          }
        }
      ]
    },
    {
      "cell_type": "code",
      "source": [
        "display(international_routes['Destination Country'].value_counts()) #What country is missing from this dataset?\n",
        "international_routes['Destination Country'].value_counts()[:25].to_frame().plot.bar()"
      ],
      "metadata": {
        "id": "jwk4zQgf9M2i",
        "colab": {
          "base_uri": "https://localhost:8080/",
          "height": 588
        },
        "outputId": "93661410-188f-4b70-904c-c7fbf8889929"
      },
      "execution_count": null,
      "outputs": [
        {
          "output_type": "display_data",
          "data": {
            "text/plain": [
              "United States              2496\n",
              "United Kingdom             2326\n",
              "Germany                    2124\n",
              "Spain                      1952\n",
              "France                     1438\n",
              "                           ... \n",
              "American Samoa                1\n",
              "Lesotho                       1\n",
              "Swaziland                     1\n",
              "Tuvalu                        1\n",
              "Cocos (Keeling) Islands       1\n",
              "Name: Destination Country, Length: 224, dtype: int64"
            ]
          },
          "metadata": {}
        },
        {
          "output_type": "execute_result",
          "data": {
            "text/plain": [
              "<AxesSubplot:>"
            ]
          },
          "metadata": {},
          "execution_count": 35
        },
        {
          "output_type": "display_data",
          "data": {
            "text/plain": [
              "<Figure size 432x288 with 1 Axes>"
            ],
            "image/png": "[encoded data removed]"
          },
          "metadata": {
            "needs_background": "light"
          }
        }
      ]
    },
    {
      "cell_type": "markdown",
      "source": [
        "China loses its top 5 spot when only international flights are considered. Way more European countries are pretent towards the top of the list"
      ],
      "metadata": {
        "id": "nUy65bnJ9vTn"
      }
    },
    {
      "cell_type": "code",
      "source": [
        "routes[routes['Stops'] >0]"
      ],
      "metadata": {
        "id": "B4bur-aM-oAl",
        "colab": {
          "base_uri": "https://localhost:8080/",
          "height": 765
        },
        "outputId": "56ccfe5f-338d-400b-ab62-a6ab20cb206e"
      },
      "execution_count": null,
      "outputs": [
        {
          "output_type": "execute_result",
          "data": {
            "text/plain": [
              "                    IATA/ICAO Code                       Airline  Airline ID  \\\n",
              "Index W.R.T. Origin                                                            \n",
              "2066                            5T                Canadian North        1623   \n",
              "7810                            AC                    Air Canada         330   \n",
              "8272                            AC                    Air Canada         330   \n",
              "17767                           CU            Cubana de Aviación        1936   \n",
              "25116                           FL               AirTran Airways        1316   \n",
              "25220                           FL               AirTran Airways        1316   \n",
              "25230                           FL               AirTran Airways        1316   \n",
              "49746                           SK  Scandinavian Airlines System        4319   \n",
              "63567                           WN            Southwest Airlines        4547   \n",
              "64042                           WN            Southwest Airlines        4547   \n",
              "64045                           WN            Southwest Airlines        4547   \n",
              "\n",
              "                                                        Source Airport  \\\n",
              "Index W.R.T. Origin                                                      \n",
              "2066                                              Rankin Inlet Airport   \n",
              "7810                                                Port Bouet Airport   \n",
              "8272                                   Vancouver International Airport   \n",
              "17767                              Leonardo da Vinci–Fiumicino Airport   \n",
              "25116                                          William P Hobby Airport   \n",
              "25220                                    Orlando International Airport   \n",
              "25230                                    Orlando International Airport   \n",
              "49746                                        Stockholm-Arlanda Airport   \n",
              "63567                General Edward Lawrence Logan International Ai...   \n",
              "64042                                    Orlando International Airport   \n",
              "64045                                    Orlando International Airport   \n",
              "\n",
              "                    Source Country  Source Airport ID  \\\n",
              "Index W.R.T. Origin                                     \n",
              "2066                        Canada                132   \n",
              "7810                 Cote d'Ivoire                253   \n",
              "8272                        Canada                156   \n",
              "17767                        Italy               1555   \n",
              "25116                United States               3566   \n",
              "25220                United States               3878   \n",
              "25230                United States               3878   \n",
              "49746                       Sweden                737   \n",
              "63567                United States               3448   \n",
              "64042                United States               3878   \n",
              "64045                United States               3878   \n",
              "\n",
              "                                                   Destination Airport  \\\n",
              "Index W.R.T. Origin                                                      \n",
              "2066                                                    Arviat Airport   \n",
              "7810                                                  Brussels Airport   \n",
              "8272                                            Campbell River Airport   \n",
              "17767                                 José Martí International Airport   \n",
              "25116                                San Antonio International Airport   \n",
              "25220                                          William P Hobby Airport   \n",
              "25230                                    Norfolk International Airport   \n",
              "49746                                                Gällivare Airport   \n",
              "63567                                    Orlando International Airport   \n",
              "64042                General Edward Lawrence Logan International Ai...   \n",
              "64045                                    Akron Canton Regional Airport   \n",
              "\n",
              "                    Destination Country  Destination Airport ID  \\\n",
              "Index W.R.T. Origin                                               \n",
              "2066                             Canada                      50   \n",
              "7810                            Belgium                     302   \n",
              "8272                             Canada                      30   \n",
              "17767                              Cuba                    1909   \n",
              "25116                     United States                    3621   \n",
              "25220                     United States                    3566   \n",
              "25230                     United States                    3611   \n",
              "49746                            Sweden                     715   \n",
              "63567                     United States                    3878   \n",
              "64042                     United States                    3448   \n",
              "64045                     United States                    4112   \n",
              "\n",
              "                     Distance (KM)                     Plane Model  Stops  \\\n",
              "Index W.R.T. Origin                                                         \n",
              "2066                    217.117244  Aerospatiale/Alenia ATR 42-600      1   \n",
              "7810                   5119.644729                 Airbus A330-300      1   \n",
              "8272                    172.830232                 Beechcraft 1900      1   \n",
              "17767                  8709.383347                      Boeing 767      1   \n",
              "25116                   309.375402                  Boeing 737-500      1   \n",
              "25220                  1366.537468                             NaN      1   \n",
              "25230                  1053.529824                      Boeing 717      1   \n",
              "49746                   846.072942           British Aerospace ATP      1   \n",
              "63567                  1804.114237                             NaN      1   \n",
              "64042                  1804.114237                             NaN      1   \n",
              "64045                  1385.280104                             NaN      1   \n",
              "\n",
              "                     Codeshare  \n",
              "Index W.R.T. Origin             \n",
              "2066                         0  \n",
              "7810                         0  \n",
              "8272                         0  \n",
              "17767                        0  \n",
              "25116                        0  \n",
              "25220                        0  \n",
              "25230                        0  \n",
              "49746                        0  \n",
              "63567                        0  \n",
              "64042                        0  \n",
              "64045                        0  "
            ],
            "text/html": [
              "\n",
              "  <div id=\"df-71a314f4-d099-41b0-aca3-6ab74edd5fa9\">\n",
              "    <div class=\"colab-df-container\">\n",
              "      <div>\n",
              "<style scoped>\n",
              "    .dataframe tbody tr th:only-of-type {\n",
              "        vertical-align: middle;\n",
              "    }\n",
              "\n",
              "    .dataframe tbody tr th {\n",
              "        vertical-align: top;\n",
              "    }\n",
              "\n",
              "    .dataframe thead th {\n",
              "        text-align: right;\n",
              "    }\n",
              "</style>\n",
              "<table border=\"1\" class=\"dataframe\">\n",
              "  <thead>\n",
              "    <tr style=\"text-align: right;\">\n",
              "      <th></th>\n",
              "      <th>IATA/ICAO Code</th>\n",
              "      <th>Airline</th>\n",
              "      <th>Airline ID</th>\n",
              "      <th>Source Airport</th>\n",
              "      <th>Source Country</th>\n",
              "      <th>Source Airport ID</th>\n",
              "      <th>Destination Airport</th>\n",
              "      <th>Destination Country</th>\n",
              "      <th>Destination Airport ID</th>\n",
              "      <th>Distance (KM)</th>\n",
              "      <th>Plane Model</th>\n",
              "      <th>Stops</th>\n",
              "      <th>Codeshare</th>\n",
              "    </tr>\n",
              "    <tr>\n",
              "      <th>Index W.R.T. Origin</th>\n",
              "      <th></th>\n",
              "      <th></th>\n",
              "      <th></th>\n",
              "      <th></th>\n",
              "      <th></th>\n",
              "      <th></th>\n",
              "      <th></th>\n",
              "      <th></th>\n",
              "      <th></th>\n",
              "      <th></th>\n",
              "      <th></th>\n",
              "      <th></th>\n",
              "      <th></th>\n",
              "    </tr>\n",
              "  </thead>\n",
              "  <tbody>\n",
              "    <tr>\n",
              "      <th>2066</th>\n",
              "      <td>5T</td>\n",
              "      <td>Canadian North</td>\n",
              "      <td>1623</td>\n",
              "      <td>Rankin Inlet Airport</td>\n",
              "      <td>Canada</td>\n",
              "      <td>132</td>\n",
              "      <td>Arviat Airport</td>\n",
              "      <td>Canada</td>\n",
              "      <td>50</td>\n",
              "      <td>217.117244</td>\n",
              "      <td>Aerospatiale/Alenia ATR 42-600</td>\n",
              "      <td>1</td>\n",
              "      <td>0</td>\n",
              "    </tr>\n",
              "    <tr>\n",
              "      <th>7810</th>\n",
              "      <td>AC</td>\n",
              "      <td>Air Canada</td>\n",
              "      <td>330</td>\n",
              "      <td>Port Bouet Airport</td>\n",
              "      <td>Cote d'Ivoire</td>\n",
              "      <td>253</td>\n",
              "      <td>Brussels Airport</td>\n",
              "      <td>Belgium</td>\n",
              "      <td>302</td>\n",
              "      <td>5119.644729</td>\n",
              "      <td>Airbus A330-300</td>\n",
              "      <td>1</td>\n",
              "      <td>0</td>\n",
              "    </tr>\n",
              "    <tr>\n",
              "      <th>8272</th>\n",
              "      <td>AC</td>\n",
              "      <td>Air Canada</td>\n",
              "      <td>330</td>\n",
              "      <td>Vancouver International Airport</td>\n",
              "      <td>Canada</td>\n",
              "      <td>156</td>\n",
              "      <td>Campbell River Airport</td>\n",
              "      <td>Canada</td>\n",
              "      <td>30</td>\n",
              "      <td>172.830232</td>\n",
              "      <td>Beechcraft 1900</td>\n",
              "      <td>1</td>\n",
              "      <td>0</td>\n",
              "    </tr>\n",
              "    <tr>\n",
              "      <th>17767</th>\n",
              "      <td>CU</td>\n",
              "      <td>Cubana de Aviación</td>\n",
              "      <td>1936</td>\n",
              "      <td>Leonardo da Vinci–Fiumicino Airport</td>\n",
              "      <td>Italy</td>\n",
              "      <td>1555</td>\n",
              "      <td>José Martí International Airport</td>\n",
              "      <td>Cuba</td>\n",
              "      <td>1909</td>\n",
              "      <td>8709.383347</td>\n",
              "      <td>Boeing 767</td>\n",
              "      <td>1</td>\n",
              "      <td>0</td>\n",
              "    </tr>\n",
              "    <tr>\n",
              "      <th>25116</th>\n",
              "      <td>FL</td>\n",
              "      <td>AirTran Airways</td>\n",
              "      <td>1316</td>\n",
              "      <td>William P Hobby Airport</td>\n",
              "      <td>United States</td>\n",
              "      <td>3566</td>\n",
              "      <td>San Antonio International Airport</td>\n",
              "      <td>United States</td>\n",
              "      <td>3621</td>\n",
              "      <td>309.375402</td>\n",
              "      <td>Boeing 737-500</td>\n",
              "      <td>1</td>\n",
              "      <td>0</td>\n",
              "    </tr>\n",
              "    <tr>\n",
              "      <th>25220</th>\n",
              "      <td>FL</td>\n",
              "      <td>AirTran Airways</td>\n",
              "      <td>1316</td>\n",
              "      <td>Orlando International Airport</td>\n",
              "      <td>United States</td>\n",
              "      <td>3878</td>\n",
              "      <td>William P Hobby Airport</td>\n",
              "      <td>United States</td>\n",
              "      <td>3566</td>\n",
              "      <td>1366.537468</td>\n",
              "      <td>NaN</td>\n",
              "      <td>1</td>\n",
              "      <td>0</td>\n",
              "    </tr>\n",
              "    <tr>\n",
              "      <th>25230</th>\n",
              "      <td>FL</td>\n",
              "      <td>AirTran Airways</td>\n",
              "      <td>1316</td>\n",
              "      <td>Orlando International Airport</td>\n",
              "      <td>United States</td>\n",
              "      <td>3878</td>\n",
              "      <td>Norfolk International Airport</td>\n",
              "      <td>United States</td>\n",
              "      <td>3611</td>\n",
              "      <td>1053.529824</td>\n",
              "      <td>Boeing 717</td>\n",
              "      <td>1</td>\n",
              "      <td>0</td>\n",
              "    </tr>\n",
              "    <tr>\n",
              "      <th>49746</th>\n",
              "      <td>SK</td>\n",
              "      <td>Scandinavian Airlines System</td>\n",
              "      <td>4319</td>\n",
              "      <td>Stockholm-Arlanda Airport</td>\n",
              "      <td>Sweden</td>\n",
              "      <td>737</td>\n",
              "      <td>Gällivare Airport</td>\n",
              "      <td>Sweden</td>\n",
              "      <td>715</td>\n",
              "      <td>846.072942</td>\n",
              "      <td>British Aerospace ATP</td>\n",
              "      <td>1</td>\n",
              "      <td>0</td>\n",
              "    </tr>\n",
              "    <tr>\n",
              "      <th>63567</th>\n",
              "      <td>WN</td>\n",
              "      <td>Southwest Airlines</td>\n",
              "      <td>4547</td>\n",
              "      <td>General Edward Lawrence Logan International Ai...</td>\n",
              "      <td>United States</td>\n",
              "      <td>3448</td>\n",
              "      <td>Orlando International Airport</td>\n",
              "      <td>United States</td>\n",
              "      <td>3878</td>\n",
              "      <td>1804.114237</td>\n",
              "      <td>NaN</td>\n",
              "      <td>1</td>\n",
              "      <td>0</td>\n",
              "    </tr>\n",
              "    <tr>\n",
              "      <th>64042</th>\n",
              "      <td>WN</td>\n",
              "      <td>Southwest Airlines</td>\n",
              "      <td>4547</td>\n",
              "      <td>Orlando International Airport</td>\n",
              "      <td>United States</td>\n",
              "      <td>3878</td>\n",
              "      <td>General Edward Lawrence Logan International Ai...</td>\n",
              "      <td>United States</td>\n",
              "      <td>3448</td>\n",
              "      <td>1804.114237</td>\n",
              "      <td>NaN</td>\n",
              "      <td>1</td>\n",
              "      <td>0</td>\n",
              "    </tr>\n",
              "    <tr>\n",
              "      <th>64045</th>\n",
              "      <td>WN</td>\n",
              "      <td>Southwest Airlines</td>\n",
              "      <td>4547</td>\n",
              "      <td>Orlando International Airport</td>\n",
              "      <td>United States</td>\n",
              "      <td>3878</td>\n",
              "      <td>Akron Canton Regional Airport</td>\n",
              "      <td>United States</td>\n",
              "      <td>4112</td>\n",
              "      <td>1385.280104</td>\n",
              "      <td>NaN</td>\n",
              "      <td>1</td>\n",
              "      <td>0</td>\n",
              "    </tr>\n",
              "  </tbody>\n",
              "</table>\n",
              "</div>\n",
              "      <button class=\"colab-df-convert\" onclick=\"convertToInteractive('df-71a314f4-d099-41b0-aca3-6ab74edd5fa9')\"\n",
              "              title=\"Convert this dataframe to an interactive table.\"\n",
              "              style=\"display:none;\">\n",
              "        \n",
              "  <svg xmlns=\"http://www.w3.org/2000/svg\" height=\"24px\"viewBox=\"0 0 24 24\"\n",
              "       width=\"24px\">\n",
              "    <path d=\"M0 0h24v24H0V0z\" fill=\"none\"/>\n",
              "    <path d=\"M18.56 5.44l.94 2.06.94-2.06 2.06-.94-2.06-.94-.94-2.06-.94 2.06-2.06.94zm-11 1L8.5 8.5l.94-2.06 2.06-.94-2.06-.94L8.5 2.5l-.94 2.06-2.06.94zm10 10l.94 2.06.94-2.06 2.06-.94-2.06-.94-.94-2.06-.94 2.06-2.06.94z\"/><path d=\"M17.41 7.96l-1.37-1.37c-.4-.4-.92-.59-1.43-.59-.52 0-1.04.2-1.43.59L10.3 9.45l-7.72 7.72c-.78.78-.78 2.05 0 2.83L4 21.41c.39.39.9.59 1.41.59.51 0 1.02-.2 1.41-.59l7.78-7.78 2.81-2.81c.8-.78.8-2.07 0-2.86zM5.41 20L4 18.59l7.72-7.72 1.47 1.35L5.41 20z\"/>\n",
              "  </svg>\n",
              "      </button>\n",
              "      \n",
              "  <style>\n",
              "    .colab-df-container {\n",
              "      display:flex;\n",
              "      flex-wrap:wrap;\n",
              "      gap: 12px;\n",
              "    }\n",
              "\n",
              "    .colab-df-convert {\n",
              "      background-color: #E8F0FE;\n",
              "      border: none;\n",
              "      border-radius: 50%;\n",
              "      cursor: pointer;\n",
              "      display: none;\n",
              "      fill: #1967D2;\n",
              "      height: 32px;\n",
              "      padding: 0 0 0 0;\n",
              "      width: 32px;\n",
              "    }\n",
              "\n",
              "    .colab-df-convert:hover {\n",
              "      background-color: #E2EBFA;\n",
              "      box-shadow: 0px 1px 2px rgba(60, 64, 67, 0.3), 0px 1px 3px 1px rgba(60, 64, 67, 0.15);\n",
              "      fill: #174EA6;\n",
              "    }\n",
              "\n",
              "    [theme=dark] .colab-df-convert {\n",
              "      background-color: #3B4455;\n",
              "      fill: #D2E3FC;\n",
              "    }\n",
              "\n",
              "    [theme=dark] .colab-df-convert:hover {\n",
              "      background-color: #434B5C;\n",
              "      box-shadow: 0px 1px 3px 1px rgba(0, 0, 0, 0.15);\n",
              "      filter: drop-shadow(0px 1px 2px rgba(0, 0, 0, 0.3));\n",
              "      fill: #FFFFFF;\n",
              "    }\n",
              "  </style>\n",
              "\n",
              "      <script>\n",
              "        const buttonEl =\n",
              "          document.querySelector('#df-71a314f4-d099-41b0-aca3-6ab74edd5fa9 button.colab-df-convert');\n",
              "        buttonEl.style.display =\n",
              "          google.colab.kernel.accessAllowed ? 'block' : 'none';\n",
              "\n",
              "        async function convertToInteractive(key) {\n",
              "          const element = document.querySelector('#df-71a314f4-d099-41b0-aca3-6ab74edd5fa9');\n",
              "          const dataTable =\n",
              "            await google.colab.kernel.invokeFunction('convertToInteractive',\n",
              "                                                     [key], {});\n",
              "          if (!dataTable) return;\n",
              "\n",
              "          const docLinkHtml = 'Like what you see? Visit the ' +\n",
              "            '<a target=\"_blank\" href=https://colab.research.google.com/notebooks/data_table.ipynb>data table notebook</a>'\n",
              "            + ' to learn more about interactive tables.';\n",
              "          element.innerHTML = '';\n",
              "          dataTable['output_type'] = 'display_data';\n",
              "          await google.colab.output.renderOutput(dataTable, element);\n",
              "          const docLink = document.createElement('div');\n",
              "          docLink.innerHTML = docLinkHtml;\n",
              "          element.appendChild(docLink);\n",
              "        }\n",
              "      </script>\n",
              "    </div>\n",
              "  </div>\n",
              "  "
            ]
          },
          "metadata": {},
          "execution_count": 36
        }
      ]
    },
    {
      "cell_type": "code",
      "source": [
        "fig, axs = plt.subplots(8, 1, figsize=(5,30))\n",
        "\n",
        "# loop through plots, plotting 1000..8000 distance\n",
        "#plot1 = routes[routes['Distance (KM)'] < 400]['Plane Model'].value_counts()[:10].plot.bar()\n",
        "for i in range(8):\n",
        "  x = routes[routes['Distance (KM)'] < (i * 1000) + 500]['Plane Model'].value_counts()[:6]\n",
        "  y = routes[routes['Distance (KM)'] < (i* 1000)+ 500]['Plane Model'].value_counts()[:6].index\n",
        "  axs[i].bar(y, x, color = \"#a68fc2\")\n",
        "  # grid\n",
        "  axs[i].set_axisbelow(True)\n",
        "  axs[i].yaxis.grid(color = \"#9c9c9c\")\n",
        "  # axis labels\n",
        "  axs[i].set_xlabel(\"Plane Model\")\n",
        "  axs[i].set_ylabel(\"Distance KM\")\n",
        "  plt.subplots_adjust(bottom = 0.3, right = 3.5, top = 2)"
      ],
      "metadata": {
        "colab": {
          "base_uri": "https://localhost:8080/"
        },
        "id": "AnPPOSiw48kb",
        "outputId": "57894327-0058-4965-cb52-880f71c67ec8"
      },
      "execution_count": null,
      "outputs": [
        {
          "output_type": "display_data",
          "data": {
            "text/plain": [
              "<Figure size 360x2160 with 8 Axes>"
            ],
            "image/png": "[encoded data removed]"
          },
          "metadata": {
            "needs_background": "light"
          }
        }
      ]
    },
    {
      "cell_type": "markdown",
      "source": [
        "#Machine Learning Aspect\n",
        "* Use all columns but Equipment (model of plane) as x, try to predict model of plane \n",
        " * baseline: if our model is more than 1/3 accurate"
      ],
      "metadata": {
        "id": "shMJdStqqqTK"
      }
    },
    {
      "cell_type": "code",
      "source": [
        "import sklearn\n",
        "from sklearn.model_selection import train_test_split\n",
        "from sklearn.linear_model import LinearRegression\n",
        "\n",
        "def get_splits(routes_df):\n",
        "  # routes_df is either origional (cleaned) \n",
        "  # routes or a subset of routes with the\n",
        "  # same columns\n",
        "  X_train, X_other, Y_train, Y_other = sklearn.model_selection.train_test_split(routes_df.drop(columns = 'Plane Model'), routes_df['Plane Model'], test_size = 0.333, random_state = 747)\n",
        "  X_validation, X_test, Y_validation, Y_test = sklearn.model_selection.train_test_split(X_other, Y_other, test_size = .5, random_state = 747)\n",
        "  return {'X_train' : X_train, 'X_val' :X_validation, 'X_test' : X_test, 'Y_train':Y_train,'Y_val': Y_validation,'Y_test': Y_test}"
      ],
      "metadata": {
        "id": "MUhMhj25B_pH"
      },
      "execution_count": null,
      "outputs": []
    },
    {
      "cell_type": "code",
      "source": [
        "splits = get_splits(routes)\n",
        "\n",
        "splits['Y_val']"
      ],
      "metadata": {
        "id": "JtVhCSS0DoBl",
        "colab": {
          "base_uri": "https://localhost:8080/"
        },
        "outputId": "28ef7737-b029-4acd-d7cf-a63245d43efc"
      },
      "execution_count": null,
      "outputs": [
        {
          "output_type": "execute_result",
          "data": {
            "text/plain": [
              "Index W.R.T. Origin\n",
              "62689       Airbus A320\n",
              "51366               NaN\n",
              "31182    Boeing 737-800\n",
              "27002    Boeing 737-800\n",
              "65459    Boeing 737-800\n",
              "              ...      \n",
              "36510               NaN\n",
              "61105               NaN\n",
              "54500       Airbus A319\n",
              "67042    Boeing 737-800\n",
              "41663               NaN\n",
              "Name: Plane Model, Length: 11039, dtype: object"
            ]
          },
          "metadata": {},
          "execution_count": 39
        }
      ]
    },
    {
      "cell_type": "markdown",
      "source": [
        "Some of the elements in `Plane Model` column are NaN. Need to check if that's the case in the origional file, or if there's an issue with the mapping. "
      ],
      "metadata": {
        "id": "Lfh9UnvK_md2"
      }
    },
    {
      "cell_type": "code",
      "source": [
        "#Element at index 9022 should have equipment `CR9`\n",
        "planes[planes['IATA Code'] == 'CR9'] # A lot of `Plane Model` elements are NaN, but shouldn't be. There's something wrong with the initial mapping, need to revaluate"
      ],
      "metadata": {
        "id": "OjbxF_O0EA8r",
        "colab": {
          "base_uri": "https://localhost:8080/"
        },
        "outputId": "890cd46c-fe47-4c0c-e110-16c49680d8d1"
      },
      "execution_count": null,
      "outputs": [
        {
          "output_type": "execute_result",
          "data": {
            "text/plain": [
              "                    Plane Name IATA Code ICAO Code\n",
              "122  Canadair Regional Jet 900       CR9      CRJ9"
            ],
            "text/html": [
              "\n",
              "  <div id=\"df-c0100378-4131-4b2e-afff-ea496964c7f4\">\n",
              "    <div class=\"colab-df-container\">\n",
              "      <div>\n",
              "<style scoped>\n",
              "    .dataframe tbody tr th:only-of-type {\n",
              "        vertical-align: middle;\n",
              "    }\n",
              "\n",
              "    .dataframe tbody tr th {\n",
              "        vertical-align: top;\n",
              "    }\n",
              "\n",
              "    .dataframe thead th {\n",
              "        text-align: right;\n",
              "    }\n",
              "</style>\n",
              "<table border=\"1\" class=\"dataframe\">\n",
              "  <thead>\n",
              "    <tr style=\"text-align: right;\">\n",
              "      <th></th>\n",
              "      <th>Plane Name</th>\n",
              "      <th>IATA Code</th>\n",
              "      <th>ICAO Code</th>\n",
              "    </tr>\n",
              "  </thead>\n",
              "  <tbody>\n",
              "    <tr>\n",
              "      <th>122</th>\n",
              "      <td>Canadair Regional Jet 900</td>\n",
              "      <td>CR9</td>\n",
              "      <td>CRJ9</td>\n",
              "    </tr>\n",
              "  </tbody>\n",
              "</table>\n",
              "</div>\n",
              "      <button class=\"colab-df-convert\" onclick=\"convertToInteractive('df-c0100378-4131-4b2e-afff-ea496964c7f4')\"\n",
              "              title=\"Convert this dataframe to an interactive table.\"\n",
              "              style=\"display:none;\">\n",
              "        \n",
              "  <svg xmlns=\"http://www.w3.org/2000/svg\" height=\"24px\"viewBox=\"0 0 24 24\"\n",
              "       width=\"24px\">\n",
              "    <path d=\"M0 0h24v24H0V0z\" fill=\"none\"/>\n",
              "    <path d=\"M18.56 5.44l.94 2.06.94-2.06 2.06-.94-2.06-.94-.94-2.06-.94 2.06-2.06.94zm-11 1L8.5 8.5l.94-2.06 2.06-.94-2.06-.94L8.5 2.5l-.94 2.06-2.06.94zm10 10l.94 2.06.94-2.06 2.06-.94-2.06-.94-.94-2.06-.94 2.06-2.06.94z\"/><path d=\"M17.41 7.96l-1.37-1.37c-.4-.4-.92-.59-1.43-.59-.52 0-1.04.2-1.43.59L10.3 9.45l-7.72 7.72c-.78.78-.78 2.05 0 2.83L4 21.41c.39.39.9.59 1.41.59.51 0 1.02-.2 1.41-.59l7.78-7.78 2.81-2.81c.8-.78.8-2.07 0-2.86zM5.41 20L4 18.59l7.72-7.72 1.47 1.35L5.41 20z\"/>\n",
              "  </svg>\n",
              "      </button>\n",
              "      \n",
              "  <style>\n",
              "    .colab-df-container {\n",
              "      display:flex;\n",
              "      flex-wrap:wrap;\n",
              "      gap: 12px;\n",
              "    }\n",
              "\n",
              "    .colab-df-convert {\n",
              "      background-color: #E8F0FE;\n",
              "      border: none;\n",
              "      border-radius: 50%;\n",
              "      cursor: pointer;\n",
              "      display: none;\n",
              "      fill: #1967D2;\n",
              "      height: 32px;\n",
              "      padding: 0 0 0 0;\n",
              "      width: 32px;\n",
              "    }\n",
              "\n",
              "    .colab-df-convert:hover {\n",
              "      background-color: #E2EBFA;\n",
              "      box-shadow: 0px 1px 2px rgba(60, 64, 67, 0.3), 0px 1px 3px 1px rgba(60, 64, 67, 0.15);\n",
              "      fill: #174EA6;\n",
              "    }\n",
              "\n",
              "    [theme=dark] .colab-df-convert {\n",
              "      background-color: #3B4455;\n",
              "      fill: #D2E3FC;\n",
              "    }\n",
              "\n",
              "    [theme=dark] .colab-df-convert:hover {\n",
              "      background-color: #434B5C;\n",
              "      box-shadow: 0px 1px 3px 1px rgba(0, 0, 0, 0.15);\n",
              "      filter: drop-shadow(0px 1px 2px rgba(0, 0, 0, 0.3));\n",
              "      fill: #FFFFFF;\n",
              "    }\n",
              "  </style>\n",
              "\n",
              "      <script>\n",
              "        const buttonEl =\n",
              "          document.querySelector('#df-c0100378-4131-4b2e-afff-ea496964c7f4 button.colab-df-convert');\n",
              "        buttonEl.style.display =\n",
              "          google.colab.kernel.accessAllowed ? 'block' : 'none';\n",
              "\n",
              "        async function convertToInteractive(key) {\n",
              "          const element = document.querySelector('#df-c0100378-4131-4b2e-afff-ea496964c7f4');\n",
              "          const dataTable =\n",
              "            await google.colab.kernel.invokeFunction('convertToInteractive',\n",
              "                                                     [key], {});\n",
              "          if (!dataTable) return;\n",
              "\n",
              "          const docLinkHtml = 'Like what you see? Visit the ' +\n",
              "            '<a target=\"_blank\" href=https://colab.research.google.com/notebooks/data_table.ipynb>data table notebook</a>'\n",
              "            + ' to learn more about interactive tables.';\n",
              "          element.innerHTML = '';\n",
              "          dataTable['output_type'] = 'display_data';\n",
              "          await google.colab.output.renderOutput(dataTable, element);\n",
              "          const docLink = document.createElement('div');\n",
              "          docLink.innerHTML = docLinkHtml;\n",
              "          element.appendChild(docLink);\n",
              "        }\n",
              "      </script>\n",
              "    </div>\n",
              "  </div>\n",
              "  "
            ]
          },
          "metadata": {},
          "execution_count": 40
        }
      ]
    },
    {
      "cell_type": "markdown",
      "source": [
        "# Machine Learning"
      ],
      "metadata": {
        "id": "dPc6a-5U1Yhp"
      }
    },
    {
      "cell_type": "code",
      "source": [
        "from sklearn import preprocessing\n",
        "from sklearn.linear_model import LinearRegression\n",
        "from sklearn.preprocessing import PolynomialFeatures\n",
        "from sklearn.cluster import KMeans\n",
        "import scipy\n",
        "from scipy.stats import zscore"
      ],
      "metadata": {
        "id": "B_RfPv3V1YCH"
      },
      "execution_count": null,
      "outputs": []
    },
    {
      "cell_type": "code",
      "source": [
        "# Importing the dataset and selecting all plane models with more than 35 flights\n",
        "allnoNaN = pd.read_csv(\"/content/routes_clean.csv\")\n",
        "flightmore35 = allnoNaN.loc[allnoNaN[\"Plane Model\"].isin(allnoNaN[\"Plane Model\"].unique()[allnoNaN[\"Plane Model\"].value_counts() > 35])]"
      ],
      "metadata": {
        "id": "JvD0rjb9zffm"
      },
      "execution_count": null,
      "outputs": []
    },
    {
      "cell_type": "code",
      "source": [
        "# Getting the initial X inputs and y outputs\n",
        "Xall = flightmore35[[\"Airline ID\", \"Source Airport ID\",\"Destination Airport ID\",\"Distance (KM)\",\"Codeshare\"]]\n",
        "yall = flightmore35[[\"Plane Model\"]]\n",
        "source = flightmore35[[\"Source Country\"]]\n",
        "destination = flightmore35[[\"Destination Country\"]]\n",
        "\n",
        "# Setting up the label Encoders\n",
        "labeling = preprocessing.LabelEncoder()\n",
        "\n",
        "# Encoding the y so it can be used my regression systems\n",
        "labeling.fit(yall)\n",
        "labelyall = labeling.transform(yall)\n",
        "\n",
        "# Encoding the source and destination countries and adding them to the X inputs\n",
        "labeling.fit(source)\n",
        "labelsource = labeling.transform(source)\n",
        "labeling.fit(destination)\n",
        "labeldestination = labeling.transform(destination)\n",
        "Xall[\"Source Country\"] = labelsource\n",
        "Xall[\"Destination Country\"] = labeldestination\n",
        "\n",
        "# Z scoring the inputs\n",
        "Xall = Xall.apply(zscore)\n",
        "\n",
        "# Setting up the splits\n",
        "Xtrain, Xtemp, ytrain, ytemp = train_test_split(Xall, labelyall, test_size=.2, random_state=747)\n",
        "Xval, Xtest, yval, ytest = train_test_split(Xtemp, ytemp, train_size=.5, random_state=747)"
      ],
      "metadata": {
        "colab": {
          "base_uri": "https://localhost:8080/"
        },
        "id": "H_7mJkzJAlgx",
        "outputId": "8562d8f8-6920-431e-90ad-8361792caafd"
      },
      "execution_count": null,
      "outputs": [
        {
          "output_type": "stream",
          "name": "stderr",
          "text": [
            "/usr/local/lib/python3.9/dist-packages/sklearn/preprocessing/_label.py:99: DataConversionWarning: A column-vector y was passed when a 1d array was expected. Please change the shape of y to (n_samples, ), for example using ravel().\n",
            "  y = column_or_1d(y, warn=True)\n",
            "/usr/local/lib/python3.9/dist-packages/sklearn/preprocessing/_label.py:134: DataConversionWarning: A column-vector y was passed when a 1d array was expected. Please change the shape of y to (n_samples, ), for example using ravel().\n",
            "  y = column_or_1d(y, dtype=self.classes_.dtype, warn=True)\n",
            "/usr/local/lib/python3.9/dist-packages/sklearn/preprocessing/_label.py:99: DataConversionWarning: A column-vector y was passed when a 1d array was expected. Please change the shape of y to (n_samples, ), for example using ravel().\n",
            "  y = column_or_1d(y, warn=True)\n",
            "/usr/local/lib/python3.9/dist-packages/sklearn/preprocessing/_label.py:134: DataConversionWarning: A column-vector y was passed when a 1d array was expected. Please change the shape of y to (n_samples, ), for example using ravel().\n",
            "  y = column_or_1d(y, dtype=self.classes_.dtype, warn=True)\n",
            "/usr/local/lib/python3.9/dist-packages/sklearn/preprocessing/_label.py:99: DataConversionWarning: A column-vector y was passed when a 1d array was expected. Please change the shape of y to (n_samples, ), for example using ravel().\n",
            "  y = column_or_1d(y, warn=True)\n",
            "/usr/local/lib/python3.9/dist-packages/sklearn/preprocessing/_label.py:134: DataConversionWarning: A column-vector y was passed when a 1d array was expected. Please change the shape of y to (n_samples, ), for example using ravel().\n",
            "  y = column_or_1d(y, dtype=self.classes_.dtype, warn=True)\n",
            "<ipython-input-43-e5440434bc08>:19: SettingWithCopyWarning: \n",
            "A value is trying to be set on a copy of a slice from a DataFrame.\n",
            "Try using .loc[row_indexer,col_indexer] = value instead\n",
            "\n",
            "See the caveats in the documentation: https://pandas.pydata.org/pandas-docs/stable/user_guide/indexing.html#returning-a-view-versus-a-copy\n",
            "  Xall[\"Source Country\"] = labelsource\n",
            "<ipython-input-43-e5440434bc08>:20: SettingWithCopyWarning: \n",
            "A value is trying to be set on a copy of a slice from a DataFrame.\n",
            "Try using .loc[row_indexer,col_indexer] = value instead\n",
            "\n",
            "See the caveats in the documentation: https://pandas.pydata.org/pandas-docs/stable/user_guide/indexing.html#returning-a-view-versus-a-copy\n",
            "  Xall[\"Destination Country\"] = labeldestination\n"
          ]
        }
      ]
    },
    {
      "cell_type": "code",
      "source": [
        "# Testing different amount of clusters\n",
        "for x in range(100,125):\n",
        "  kmeans = KMeans(n_clusters=x, random_state=0, n_init=\"auto\").fit(Xtrain)\n",
        "  ypred = kmeans.predict(Xtrain)\n",
        "  trainscore = kmeans.score(Xtrain, ytrain)\n",
        "  valscore = kmeans.score(Xval, yval)\n",
        "  display(\"Train: \" + str(trainscore) + \" Val: \" + str(valscore))"
      ],
      "metadata": {
        "colab": {
          "base_uri": "https://localhost:8080/",
          "height": 476
        },
        "id": "oxQN-SHj8_E7",
        "outputId": "62aa107e-e8ab-4415-dbcb-59678481b8cc"
      },
      "execution_count": null,
      "outputs": [
        {
          "output_type": "display_data",
          "data": {
            "text/plain": [
              "'Train: -25811.51663965574 Val: -3267.508288804065'"
            ],
            "application/vnd.google.colaboratory.intrinsic+json": {
              "type": "string"
            }
          },
          "metadata": {}
        },
        {
          "output_type": "display_data",
          "data": {
            "text/plain": [
              "'Train: -25660.055521734364 Val: -3249.788695009162'"
            ],
            "application/vnd.google.colaboratory.intrinsic+json": {
              "type": "string"
            }
          },
          "metadata": {}
        },
        {
          "output_type": "display_data",
          "data": {
            "text/plain": [
              "'Train: -25472.290089073198 Val: -3224.780500606328'"
            ],
            "application/vnd.google.colaboratory.intrinsic+json": {
              "type": "string"
            }
          },
          "metadata": {}
        },
        {
          "output_type": "display_data",
          "data": {
            "text/plain": [
              "'Train: -25314.184355940823 Val: -3216.3513252677485'"
            ],
            "application/vnd.google.colaboratory.intrinsic+json": {
              "type": "string"
            }
          },
          "metadata": {}
        },
        {
          "output_type": "display_data",
          "data": {
            "text/plain": [
              "'Train: -25153.881205674646 Val: -3198.817634058538'"
            ],
            "application/vnd.google.colaboratory.intrinsic+json": {
              "type": "string"
            }
          },
          "metadata": {}
        },
        {
          "output_type": "display_data",
          "data": {
            "text/plain": [
              "'Train: -25011.65076276921 Val: -3178.683663372085'"
            ],
            "application/vnd.google.colaboratory.intrinsic+json": {
              "type": "string"
            }
          },
          "metadata": {}
        },
        {
          "output_type": "display_data",
          "data": {
            "text/plain": [
              "'Train: -24950.839236363645 Val: -3170.3020380952194'"
            ],
            "application/vnd.google.colaboratory.intrinsic+json": {
              "type": "string"
            }
          },
          "metadata": {}
        },
        {
          "output_type": "display_data",
          "data": {
            "text/plain": [
              "'Train: -24820.497729620656 Val: -3150.113817708252'"
            ],
            "application/vnd.google.colaboratory.intrinsic+json": {
              "type": "string"
            }
          },
          "metadata": {}
        },
        {
          "output_type": "display_data",
          "data": {
            "text/plain": [
              "'Train: -24693.472507528786 Val: -3132.909019703773'"
            ],
            "application/vnd.google.colaboratory.intrinsic+json": {
              "type": "string"
            }
          },
          "metadata": {}
        },
        {
          "output_type": "display_data",
          "data": {
            "text/plain": [
              "'Train: -24645.252293294 Val: -3124.2734938024623'"
            ],
            "application/vnd.google.colaboratory.intrinsic+json": {
              "type": "string"
            }
          },
          "metadata": {}
        },
        {
          "output_type": "display_data",
          "data": {
            "text/plain": [
              "'Train: -24462.63238418505 Val: -3103.2059564144474'"
            ],
            "application/vnd.google.colaboratory.intrinsic+json": {
              "type": "string"
            }
          },
          "metadata": {}
        },
        {
          "output_type": "display_data",
          "data": {
            "text/plain": [
              "'Train: -24338.339500846563 Val: -3083.5036228886793'"
            ],
            "application/vnd.google.colaboratory.intrinsic+json": {
              "type": "string"
            }
          },
          "metadata": {}
        },
        {
          "output_type": "display_data",
          "data": {
            "text/plain": [
              "'Train: -24194.25636195117 Val: -3074.7155541017282'"
            ],
            "application/vnd.google.colaboratory.intrinsic+json": {
              "type": "string"
            }
          },
          "metadata": {}
        },
        {
          "output_type": "display_data",
          "data": {
            "text/plain": [
              "'Train: -24096.737654102148 Val: -3070.4122547089555'"
            ],
            "application/vnd.google.colaboratory.intrinsic+json": {
              "type": "string"
            }
          },
          "metadata": {}
        },
        {
          "output_type": "display_data",
          "data": {
            "text/plain": [
              "'Train: -23898.55894808069 Val: -3052.247993697918'"
            ],
            "application/vnd.google.colaboratory.intrinsic+json": {
              "type": "string"
            }
          },
          "metadata": {}
        },
        {
          "output_type": "display_data",
          "data": {
            "text/plain": [
              "'Train: -23783.73881528707 Val: -3033.8572567120773'"
            ],
            "application/vnd.google.colaboratory.intrinsic+json": {
              "type": "string"
            }
          },
          "metadata": {}
        },
        {
          "output_type": "display_data",
          "data": {
            "text/plain": [
              "'Train: -23723.556943285184 Val: -3030.2013257078065'"
            ],
            "application/vnd.google.colaboratory.intrinsic+json": {
              "type": "string"
            }
          },
          "metadata": {}
        },
        {
          "output_type": "display_data",
          "data": {
            "text/plain": [
              "'Train: -23645.86641441821 Val: -3026.7981320088165'"
            ],
            "application/vnd.google.colaboratory.intrinsic+json": {
              "type": "string"
            }
          },
          "metadata": {}
        },
        {
          "output_type": "display_data",
          "data": {
            "text/plain": [
              "'Train: -23482.813126366123 Val: -3000.3816824317732'"
            ],
            "application/vnd.google.colaboratory.intrinsic+json": {
              "type": "string"
            }
          },
          "metadata": {}
        },
        {
          "output_type": "display_data",
          "data": {
            "text/plain": [
              "'Train: -23396.38967687742 Val: -2990.1402476491576'"
            ],
            "application/vnd.google.colaboratory.intrinsic+json": {
              "type": "string"
            }
          },
          "metadata": {}
        },
        {
          "output_type": "display_data",
          "data": {
            "text/plain": [
              "'Train: -23352.14153760353 Val: -2988.4614420518274'"
            ],
            "application/vnd.google.colaboratory.intrinsic+json": {
              "type": "string"
            }
          },
          "metadata": {}
        },
        {
          "output_type": "display_data",
          "data": {
            "text/plain": [
              "'Train: -23345.977174643867 Val: -2996.0514413991705'"
            ],
            "application/vnd.google.colaboratory.intrinsic+json": {
              "type": "string"
            }
          },
          "metadata": {}
        },
        {
          "output_type": "display_data",
          "data": {
            "text/plain": [
              "'Train: -23255.433137342246 Val: -2981.445130236312'"
            ],
            "application/vnd.google.colaboratory.intrinsic+json": {
              "type": "string"
            }
          },
          "metadata": {}
        },
        {
          "output_type": "display_data",
          "data": {
            "text/plain": [
              "'Train: -23161.59744728447 Val: -2970.625617779616'"
            ],
            "application/vnd.google.colaboratory.intrinsic+json": {
              "type": "string"
            }
          },
          "metadata": {}
        },
        {
          "output_type": "display_data",
          "data": {
            "text/plain": [
              "'Train: -23041.64153016675 Val: -2962.242832309873'"
            ],
            "application/vnd.google.colaboratory.intrinsic+json": {
              "type": "string"
            }
          },
          "metadata": {}
        }
      ]
    },
    {
      "cell_type": "code",
      "source": [
        "# Testing various polynomials\n",
        "for x in range(1,7):\n",
        "  poly = PolynomialFeatures(degree = x, include_bias = False)\n",
        "  # Setting up the feature for the polynomial model\n",
        "  trainfeatures = poly.fit_transform(Xtrain)\n",
        "  valfeatures = poly.fit_transform(Xval)\n",
        "  # Training the polynomial model on the dataset\n",
        "  polymodel = LinearRegression()\n",
        "  polymodel.fit(trainfeatures, ytrain)\n",
        "  # Getting the coefficient of the model, the intercept, and the training and validation scores of the model\n",
        "  polycoef = polymodel.coef_\n",
        "  polyinter = polymodel.intercept_\n",
        "  trainscore = polymodel.score(trainfeatures, ytrain)\n",
        "  valscore = polymodel.score(valfeatures, yval)\n",
        "  display(\"degree: \" + str(x) + \" train: \" + str(trainscore) + \" val: \" + str(valscore))"
      ],
      "metadata": {
        "colab": {
          "base_uri": "https://localhost:8080/",
          "height": 127
        },
        "id": "P59xqQOH6wy3",
        "outputId": "bf5f8dda-0d21-4d1a-bf14-f852b948ef7f"
      },
      "execution_count": null,
      "outputs": [
        {
          "output_type": "display_data",
          "data": {
            "text/plain": [
              "'degree: 1 train: 0.026930509029066685 val: 0.023369395557679584'"
            ],
            "application/vnd.google.colaboratory.intrinsic+json": {
              "type": "string"
            }
          },
          "metadata": {}
        },
        {
          "output_type": "display_data",
          "data": {
            "text/plain": [
              "'degree: 2 train: 0.09811975233791659 val: 0.09037200431936565'"
            ],
            "application/vnd.google.colaboratory.intrinsic+json": {
              "type": "string"
            }
          },
          "metadata": {}
        },
        {
          "output_type": "display_data",
          "data": {
            "text/plain": [
              "'degree: 3 train: 0.14725867056475028 val: 0.13090673139627385'"
            ],
            "application/vnd.google.colaboratory.intrinsic+json": {
              "type": "string"
            }
          },
          "metadata": {}
        },
        {
          "output_type": "display_data",
          "data": {
            "text/plain": [
              "'degree: 4 train: 0.1899756760683624 val: 0.17017243690287231'"
            ],
            "application/vnd.google.colaboratory.intrinsic+json": {
              "type": "string"
            }
          },
          "metadata": {}
        },
        {
          "output_type": "display_data",
          "data": {
            "text/plain": [
              "'degree: 5 train: 0.22069756132333695 val: 0.17699150652509132'"
            ],
            "application/vnd.google.colaboratory.intrinsic+json": {
              "type": "string"
            }
          },
          "metadata": {}
        },
        {
          "output_type": "display_data",
          "data": {
            "text/plain": [
              "'degree: 6 train: 0.2813174135377311 val: -0.07085394372564857'"
            ],
            "application/vnd.google.colaboratory.intrinsic+json": {
              "type": "string"
            }
          },
          "metadata": {}
        }
      ]
    },
    {
      "cell_type": "code",
      "source": [
        "# Initializing the Polynomial features to have a polynomial regression\n",
        "poly = PolynomialFeatures(degree = 5, include_bias = False)\n",
        "# Setting up the feature for the polynomial model\n",
        "trainfeatures = poly.fit_transform(Xtrain)\n",
        "valfeatures = poly.fit_transform(Xval)\n",
        "# Training the polynomial model on the dataset\n",
        "polymodel = LinearRegression()\n",
        "polymodel.fit(trainfeatures, ytrain)\n",
        "# Getting the coefficient of the model, the intercept, and the training and validation scores of the model\n",
        "polycoef = polymodel.coef_\n",
        "polyinter = polymodel.intercept_\n",
        "trainscore = polymodel.score(trainfeatures, ytrain)\n",
        "valscore = polymodel.score(valfeatures, yval)\n",
        "display(\"degree: \" + str(5) + \" train: \" + str(trainscore) + \" val: \" + str(valscore))"
      ],
      "metadata": {
        "colab": {
          "base_uri": "https://localhost:8080/",
          "height": 35
        },
        "id": "rg7i4MWZVenR",
        "outputId": "e9c1e9f8-028a-4673-fea0-7831a5610b8e"
      },
      "execution_count": null,
      "outputs": [
        {
          "output_type": "display_data",
          "data": {
            "text/plain": [
              "'degree: 5 train: 0.22069756132333695 val: 0.17699150652509132'"
            ],
            "application/vnd.google.colaboratory.intrinsic+json": {
              "type": "string"
            }
          },
          "metadata": {}
        }
      ]
    },
    {
      "cell_type": "code",
      "source": [
        "# Testing linear regression\n",
        "lin = LinearRegression().fit(Xtrain, ytrain)\n",
        "lin.score(Xtrain, ytrain)\n",
        "lin.coef_"
      ],
      "metadata": {
        "colab": {
          "base_uri": "https://localhost:8080/"
        },
        "id": "nJOCxyCA58ln",
        "outputId": "1a30d892-be0f-47d2-ca2e-d7daed1f7497"
      },
      "execution_count": null,
      "outputs": [
        {
          "output_type": "execute_result",
          "data": {
            "text/plain": [
              "array([ 1.00304503,  0.3944693 ,  0.51695854, -0.17842813,  2.05658141,\n",
              "        0.90854101,  0.95547626])"
            ]
          },
          "metadata": {},
          "execution_count": 47
        }
      ]
    }
  ]
}